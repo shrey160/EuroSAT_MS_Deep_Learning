{
 "cells": [
  {
   "cell_type": "code",
   "execution_count": 82,
   "metadata": {},
   "outputs": [
    {
     "data": {
      "text/plain": [
       "'2.0.0+cpu'"
      ]
     },
     "execution_count": 82,
     "metadata": {},
     "output_type": "execute_result"
    }
   ],
   "source": [
    "import torch\n",
    "from torch import nn\n",
    "from torch.utils.data import DataLoader\n",
    "from torchvision import datasets, transforms\n",
    "import numpy as np\n",
    "import random\n",
    "import rasterio\n",
    "from PIL import Image\n",
    "\n",
    "import requests\n",
    "import zipfile\n",
    "from pathlib import Path\n",
    "\n",
    "from matplotlib import pyplot as plt\n",
    "\n",
    "import torch\n",
    "from torch.utils.data import Dataset, DataLoader\n",
    "from torchvision import transforms, datasets\n",
    "\n",
    "# Note: this notebook requires torch >= 1.10.0\n",
    "torch.__version__"
   ]
  },
  {
   "cell_type": "code",
   "execution_count": 83,
   "metadata": {},
   "outputs": [
    {
     "data": {
      "text/plain": [
       "'cpu'"
      ]
     },
     "execution_count": 83,
     "metadata": {},
     "output_type": "execute_result"
    }
   ],
   "source": [
    "# Setup device-agnostic code\n",
    "device = \"cuda\" if torch.cuda.is_available() else \"cpu\"\n",
    "device"
   ]
  },
  {
   "cell_type": "code",
   "execution_count": 84,
   "metadata": {},
   "outputs": [],
   "source": [
    "# Setup path to data folder\n",
    "data_path = Path(\"./data\")\n",
    "image_path = data_path / \"Euro_MS\""
   ]
  },
  {
   "cell_type": "code",
   "execution_count": 85,
   "metadata": {},
   "outputs": [],
   "source": [
    "import os\n",
    "def walk_through_dir(dir_path):\n",
    "  \"\"\"\n",
    "  Walks through dir_path returning its contents.\n",
    "  Args:\n",
    "    dir_path (str or pathlib.Path): target directory\n",
    "  \n",
    "  Returns:\n",
    "    A print out of:\n",
    "      number of subdiretories in dir_path\n",
    "      number of images (files) in each subdirectory\n",
    "      name of each subdirectory\n",
    "  \"\"\"\n",
    "  for dirpath, dirnames, filenames in os.walk(dir_path):\n",
    "    print(f\"There are {len(dirnames)} directories and {len(filenames)} images in '{dirpath}'.\")"
   ]
  },
  {
   "cell_type": "code",
   "execution_count": 86,
   "metadata": {},
   "outputs": [
    {
     "name": "stdout",
     "output_type": "stream",
     "text": [
      "data\\Euro_MS\n"
     ]
    }
   ],
   "source": [
    "print (image_path)"
   ]
  },
  {
   "cell_type": "code",
   "execution_count": 87,
   "metadata": {},
   "outputs": [
    {
     "name": "stdout",
     "output_type": "stream",
     "text": [
      "There are 2 directories and 0 images in 'data\\Euro_MS'.\n",
      "There are 10 directories and 0 images in 'data\\Euro_MS\\test'.\n",
      "There are 0 directories and 600 images in 'data\\Euro_MS\\test\\AnnualCrop'.\n",
      "There are 0 directories and 600 images in 'data\\Euro_MS\\test\\Forest'.\n",
      "There are 0 directories and 600 images in 'data\\Euro_MS\\test\\HerbaceousVegetation'.\n",
      "There are 0 directories and 500 images in 'data\\Euro_MS\\test\\Highway'.\n",
      "There are 0 directories and 500 images in 'data\\Euro_MS\\test\\Industrial'.\n",
      "There are 0 directories and 400 images in 'data\\Euro_MS\\test\\Pasture'.\n",
      "There are 0 directories and 500 images in 'data\\Euro_MS\\test\\PermanentCrop'.\n",
      "There are 0 directories and 600 images in 'data\\Euro_MS\\test\\Residential'.\n",
      "There are 0 directories and 500 images in 'data\\Euro_MS\\test\\River'.\n",
      "There are 0 directories and 600 images in 'data\\Euro_MS\\test\\SeaLake'.\n",
      "There are 10 directories and 0 images in 'data\\Euro_MS\\train'.\n",
      "There are 0 directories and 2400 images in 'data\\Euro_MS\\train\\AnnualCrop'.\n",
      "There are 0 directories and 2400 images in 'data\\Euro_MS\\train\\Forest'.\n",
      "There are 0 directories and 2400 images in 'data\\Euro_MS\\train\\HerbaceousVegetation'.\n",
      "There are 0 directories and 2000 images in 'data\\Euro_MS\\train\\Highway'.\n",
      "There are 0 directories and 2000 images in 'data\\Euro_MS\\train\\Industrial'.\n",
      "There are 0 directories and 1600 images in 'data\\Euro_MS\\train\\Pasture'.\n",
      "There are 0 directories and 2000 images in 'data\\Euro_MS\\train\\PermanentCrop'.\n",
      "There are 0 directories and 2400 images in 'data\\Euro_MS\\train\\Residential'.\n",
      "There are 0 directories and 2000 images in 'data\\Euro_MS\\train\\River'.\n",
      "There are 0 directories and 2400 images in 'data\\Euro_MS\\train\\SeaLake'.\n"
     ]
    }
   ],
   "source": [
    "walk_through_dir(image_path)"
   ]
  },
  {
   "cell_type": "code",
   "execution_count": 88,
   "metadata": {},
   "outputs": [
    {
     "data": {
      "text/plain": [
       "(WindowsPath('data/Euro_MS/train'), WindowsPath('data/Euro_MS/test'))"
      ]
     },
     "execution_count": 88,
     "metadata": {},
     "output_type": "execute_result"
    }
   ],
   "source": [
    "# Setup train and testing paths\n",
    "train_dir = image_path / \"train\"\n",
    "test_dir = image_path / \"test\"\n",
    "\n",
    "train_dir, test_dir"
   ]
  },
  {
   "cell_type": "code",
   "execution_count": 89,
   "metadata": {},
   "outputs": [],
   "source": [
    "# Write transform for image\n",
    "data_transform = transforms.Compose([\n",
    "    # Turn the image into a torch.Tensor\n",
    "    transforms.ToTensor() # this also converts all pixel values from 0 to 255 to be between 0.0 and 1.0 \n",
    "])"
   ]
  },
  {
   "cell_type": "code",
   "execution_count": 90,
   "metadata": {},
   "outputs": [],
   "source": [
    "class CustomImageFolder_Size(Dataset):\n",
    "    def __init__(self, root_dir, transform=None):\n",
    "        self.root_dir = root_dir\n",
    "        self.transform = transform\n",
    "        self.classes, self.class_to_idx = self._find_classes()\n",
    "        self.samples = self._make_dataset()\n",
    "\n",
    "    def _find_classes(self):\n",
    "        classes = [d.name for d in os.scandir(self.root_dir) if d.is_dir()]\n",
    "        classes.sort()\n",
    "        class_to_idx = {cls_name: i for i, cls_name in enumerate(classes)}\n",
    "        return classes, class_to_idx\n",
    "\n",
    "    def _make_dataset(self):\n",
    "        images = []\n",
    "        for target_class in sorted(self.class_to_idx.keys()):\n",
    "            class_index = self.class_to_idx[target_class]\n",
    "            target_dir = os.path.join(self.root_dir, target_class)\n",
    "            for root, _, fnames in sorted(os.walk(target_dir, followlinks=True)):     \n",
    "                for fname in sorted(fnames):\n",
    "                    path = os.path.join(root, fname)\n",
    "                    item = (path, class_index)\n",
    "                    images.append(item)\n",
    "        return images\n",
    "\n",
    "    def __len__(self):\n",
    "        return len(self.samples)\n",
    "    \n",
    "    def __getitem__(self, index):\n",
    "        path, target = self.samples[index]\n",
    "        with rasterio.open(path) as f:\n",
    "            img_dat = f.read()\n",
    "            img = np.asarray(img_dat,dtype=np.float32)\n",
    "        if self.transform is not None:\n",
    "            img = self.transform(img)\n",
    "            img = img.permute(1,0,2)                      # to get [height,width,colour_channel as op]\n",
    "        return img, target\n",
    "    \n",
    "    def set_samples(self, num_samples):\n",
    "        self.samples = self.samples[:num_samples]"
   ]
  },
  {
   "cell_type": "code",
   "execution_count": 91,
   "metadata": {},
   "outputs": [
    {
     "name": "stdout",
     "output_type": "stream",
     "text": [
      "Train data:\n",
      "<__main__.CustomImageFolder_Size object at 0x0000020082B1EA40>\n",
      "Test data:\n",
      "<__main__.CustomImageFolder_Size object at 0x00000200828217E0>\n"
     ]
    }
   ],
   "source": [
    "# Use ImageFolder to create dataset(s)\n",
    "\n",
    "# presently testing out a data set for customized size\n",
    "\n",
    "train_data = CustomImageFolder_Size(root_dir=train_dir, # target folder of images\n",
    "                                  transform=data_transform,\n",
    "                                  ) # transforms to perform on data (images)\n",
    "                        \n",
    "\n",
    "test_data = CustomImageFolder_Size(root_dir=test_dir, \n",
    "                                 transform=data_transform,)\n",
    "\n",
    "print(f\"Train data:\\n{train_data}\\nTest data:\\n{test_data}\")"
   ]
  },
  {
   "cell_type": "code",
   "execution_count": 92,
   "metadata": {},
   "outputs": [
    {
     "data": {
      "text/plain": [
       "['AnnualCrop',\n",
       " 'Forest',\n",
       " 'HerbaceousVegetation',\n",
       " 'Highway',\n",
       " 'Industrial',\n",
       " 'Pasture',\n",
       " 'PermanentCrop',\n",
       " 'Residential',\n",
       " 'River',\n",
       " 'SeaLake']"
      ]
     },
     "execution_count": 92,
     "metadata": {},
     "output_type": "execute_result"
    }
   ],
   "source": [
    "class_names = train_data.classes\n",
    "class_names"
   ]
  },
  {
   "cell_type": "code",
   "execution_count": 93,
   "metadata": {},
   "outputs": [
    {
     "data": {
      "text/plain": [
       "{'AnnualCrop': 0,\n",
       " 'Forest': 1,\n",
       " 'HerbaceousVegetation': 2,\n",
       " 'Highway': 3,\n",
       " 'Industrial': 4,\n",
       " 'Pasture': 5,\n",
       " 'PermanentCrop': 6,\n",
       " 'Residential': 7,\n",
       " 'River': 8,\n",
       " 'SeaLake': 9}"
      ]
     },
     "execution_count": 93,
     "metadata": {},
     "output_type": "execute_result"
    }
   ],
   "source": [
    "# Can also get class names as a dict\n",
    "class_dict = train_data.class_to_idx\n",
    "class_dict"
   ]
  },
  {
   "cell_type": "code",
   "execution_count": 94,
   "metadata": {},
   "outputs": [
    {
     "data": {
      "text/plain": [
       "dict_values([0, 1, 2, 3, 4, 5, 6, 7, 8, 9])"
      ]
     },
     "execution_count": 94,
     "metadata": {},
     "output_type": "execute_result"
    }
   ],
   "source": [
    "class_dict.values()"
   ]
  },
  {
   "cell_type": "code",
   "execution_count": 95,
   "metadata": {},
   "outputs": [
    {
     "data": {
      "text/plain": [
       "(<torch.utils.data.dataloader.DataLoader at 0x200ff0175e0>,\n",
       " <torch.utils.data.dataloader.DataLoader at 0x20082b1dc90>)"
      ]
     },
     "execution_count": 95,
     "metadata": {},
     "output_type": "execute_result"
    }
   ],
   "source": [
    "# Turn train and test Datasets into DataLoaders\n",
    "from torch.utils.data import DataLoader\n",
    "train_dataloader = DataLoader(dataset=train_data, \n",
    "                              batch_size=1, # how many samples per batch?\n",
    "                              #num_workers=1, # how many subprocesses to use for data loading? (higher = more)\n",
    "                              shuffle=True) # shuffle the data?\n",
    "\n",
    "test_dataloader = DataLoader(dataset=test_data, \n",
    "                             batch_size=1, \n",
    "                             #num_workers=1, \n",
    "                             shuffle=False) # don't usually need to shuffle testing data\n",
    "\n",
    "train_dataloader, test_dataloader"
   ]
  },
  {
   "cell_type": "code",
   "execution_count": 96,
   "metadata": {},
   "outputs": [
    {
     "name": "stdout",
     "output_type": "stream",
     "text": [
      "Image shape: torch.Size([1, 13, 64, 64]) -> [batch_size, color_channels, height, width]\n",
      "Label shape: torch.Size([1])\n"
     ]
    }
   ],
   "source": [
    "img, label = next(iter(train_dataloader))\n",
    "\n",
    "# Batch size will now be 1, try changing the batch_size parameter above and see what happens\n",
    "print(f\"Image shape: {img.shape} -> [batch_size, color_channels, height, width]\")\n",
    "print(f\"Label shape: {label.shape}\")"
   ]
  },
  {
   "cell_type": "code",
   "execution_count": 97,
   "metadata": {},
   "outputs": [],
   "source": [
    "class TinyVGG(nn.Module):\n",
    "    \"\"\"\n",
    "    Model architecture copying TinyVGG from: \n",
    "    https://poloclub.github.io/cnn-explainer/\n",
    "    \"\"\"\n",
    "    def __init__(self, input_shape: int, hidden_units: int, output_shape: int) -> None:\n",
    "        super().__init__()\n",
    "        self.conv_block_1 = nn.Sequential(\n",
    "            nn.Conv2d(in_channels=input_shape, \n",
    "                      out_channels=hidden_units, \n",
    "                      kernel_size=3, # how big is the square that's going over the image?\n",
    "                      stride=1, # default\n",
    "                      padding=1), # options = \"valid\" (no padding) or \"same\" (output has same shape as input) or int for specific number \n",
    "            nn.ReLU(),\n",
    "            nn.Conv2d(in_channels=hidden_units, \n",
    "                      out_channels=hidden_units,\n",
    "                      kernel_size=3,\n",
    "                      stride=1,\n",
    "                      padding=1),\n",
    "            nn.ReLU(),\n",
    "            nn.MaxPool2d(kernel_size=2,\n",
    "                         stride=2) # default stride value is same as kernel_size\n",
    "        )\n",
    "        self.conv_block_2 = nn.Sequential(\n",
    "            nn.Conv2d(hidden_units, hidden_units, kernel_size=3, padding=1),\n",
    "            nn.ReLU(),\n",
    "            nn.Conv2d(hidden_units, hidden_units, kernel_size=3, padding=1),\n",
    "            nn.ReLU(),\n",
    "            nn.MaxPool2d(2)\n",
    "        )\n",
    "        self.classifier = nn.Sequential(\n",
    "            nn.Flatten(),\n",
    "            # Where did this in_features shape come from? \n",
    "            # It's because each layer of our network compresses and changes the shape of our inputs data.\n",
    "            nn.Linear(in_features=hidden_units*16*16,\n",
    "                      out_features=output_shape)\n",
    "        )\n",
    "    \n",
    "    def forward(self, x: torch.Tensor):\n",
    "        x = self.conv_block_1(x)\n",
    "        # print(x.shape)\n",
    "        x = self.conv_block_2(x)\n",
    "        # print(x.shape)\n",
    "        x = self.classifier(x)\n",
    "        # print(x.shape)\n",
    "        return x\n",
    "        # return self.classifier(self.conv_block_2(self.conv_block_1(x))) # <- leverage the benefits of operator fusion\n",
    "\n"
   ]
  },
  {
   "cell_type": "code",
   "execution_count": 98,
   "metadata": {},
   "outputs": [],
   "source": [
    "def test_step_2(model: torch.nn.Module, \n",
    "              dataloader: torch.utils.data.DataLoader, \n",
    "              loss_fn: torch.nn.Module):\n",
    "    # Put model in eval mode\n",
    "    model.eval() \n",
    "    \n",
    "    # Setup test loss and test accuracy values\n",
    "    test_loss, test_acc = 0, 0\n",
    "    y_true , y_pred = [],[]\n",
    "    \n",
    "    # Turn on inference context manager\n",
    "    with torch.inference_mode():\n",
    "        # Loop through DataLoader batches\n",
    "        for batch, (X, y) in enumerate(dataloader):\n",
    "            # Send data to target device\n",
    "            X, y = X.to(device), y.to(device)\n",
    "    \n",
    "            # 1. Forward pass\n",
    "            test_pred_logits = model(X)\n",
    "            y_true.append(y)\n",
    "\n",
    "            # 2. Calculate and accumulate loss\n",
    "            loss = loss_fn(test_pred_logits, y)\n",
    "            test_loss += loss.item()\n",
    "            \n",
    "            # Calculate and accumulate accuracy\n",
    "            test_pred_labels = test_pred_logits.argmax(dim=1)\n",
    "            y_pred.append(test_pred_labels)\n",
    "            test_acc += ((test_pred_labels == y).sum().item()/len(test_pred_labels))\n",
    "            \n",
    "            \n",
    "            \n",
    "    # Adjust metrics to get average loss and accuracy per batch \n",
    "    test_loss = test_loss / len(dataloader)\n",
    "    test_acc = test_acc / len(dataloader)\n",
    "    return test_loss, test_acc, y_true, y_pred"
   ]
  },
  {
   "cell_type": "code",
   "execution_count": 99,
   "metadata": {},
   "outputs": [],
   "source": [
    "model_0 = torch.load('./models/EuroSAT_M1_H39')"
   ]
  },
  {
   "cell_type": "code",
   "execution_count": 100,
   "metadata": {},
   "outputs": [
    {
     "data": {
      "text/plain": [
       "==========================================================================================\n",
       "Layer (type:depth-idx)                   Output Shape              Param #\n",
       "==========================================================================================\n",
       "TinyVGG                                  [1, 10]                   --\n",
       "├─Sequential: 1-1                        [1, 39, 32, 32]           --\n",
       "│    └─Conv2d: 2-1                       [1, 39, 64, 64]           4,602\n",
       "│    └─ReLU: 2-2                         [1, 39, 64, 64]           --\n",
       "│    └─Conv2d: 2-3                       [1, 39, 64, 64]           13,728\n",
       "│    └─ReLU: 2-4                         [1, 39, 64, 64]           --\n",
       "│    └─MaxPool2d: 2-5                    [1, 39, 32, 32]           --\n",
       "├─Sequential: 1-2                        [1, 39, 16, 16]           --\n",
       "│    └─Conv2d: 2-6                       [1, 39, 32, 32]           13,728\n",
       "│    └─ReLU: 2-7                         [1, 39, 32, 32]           --\n",
       "│    └─Conv2d: 2-8                       [1, 39, 32, 32]           13,728\n",
       "│    └─ReLU: 2-9                         [1, 39, 32, 32]           --\n",
       "│    └─MaxPool2d: 2-10                   [1, 39, 16, 16]           --\n",
       "├─Sequential: 1-3                        [1, 10]                   --\n",
       "│    └─Flatten: 2-11                     [1, 9984]                 --\n",
       "│    └─Linear: 2-12                      [1, 10]                   99,850\n",
       "==========================================================================================\n",
       "Total params: 145,636\n",
       "Trainable params: 145,636\n",
       "Non-trainable params: 0\n",
       "Total mult-adds (M): 103.29\n",
       "==========================================================================================\n",
       "Input size (MB): 0.21\n",
       "Forward/backward pass size (MB): 3.19\n",
       "Params size (MB): 0.58\n",
       "Estimated Total Size (MB): 3.99\n",
       "=========================================================================================="
      ]
     },
     "execution_count": 100,
     "metadata": {},
     "output_type": "execute_result"
    }
   ],
   "source": [
    "try: \n",
    "    import torchinfo\n",
    "except:\n",
    "    !pip install torchinfo\n",
    "    import torchinfo\n",
    "    \n",
    "from torchinfo import summary\n",
    "summary(model_0, input_size=[1, 13, 64, 64]) "
   ]
  },
  {
   "cell_type": "code",
   "execution_count": 101,
   "metadata": {},
   "outputs": [
    {
     "name": "stdout",
     "output_type": "stream",
     "text": [
      "Test loss :  0.40496902249754113  | Test accuracy :  0.9048148148148148\n"
     ]
    }
   ],
   "source": [
    "loss_fn = nn.CrossEntropyLoss()\n",
    "test_l, test_ac, y_true, y_pred= test_step_2(model=model_0,\n",
    "          dataloader = test_dataloader,\n",
    "          loss_fn = loss_fn)\n",
    "\n",
    "print(\"Test loss : \",test_l,\" | Test accuracy : \",test_ac)"
   ]
  },
  {
   "cell_type": "code",
   "execution_count": 102,
   "metadata": {},
   "outputs": [
    {
     "data": {
      "text/plain": [
       "tensor([0])"
      ]
     },
     "execution_count": 102,
     "metadata": {},
     "output_type": "execute_result"
    }
   ],
   "source": [
    "y_pred[2]"
   ]
  },
  {
   "cell_type": "code",
   "execution_count": 130,
   "metadata": {},
   "outputs": [],
   "source": [
    "import torch\n",
    "\n",
    "def confusion_matrix(preds, labels, num_classes):\n",
    "    \"\"\"\n",
    "    Calculates the confusion matrix given predictions and labels.\n",
    "\n",
    "    Args:\n",
    "        preds (torch.Tensor): Predicted labels (usually after applying argmax to model output).\n",
    "        labels (torch.Tensor): True labels.\n",
    "        num_classes (int): Number of classes in the dataset.\n",
    "\n",
    "    Returns:\n",
    "        torch.Tensor: Confusion matrix of shape (num_classes, num_classes).\n",
    "    \"\"\"\n",
    "\n",
    "    # Initialize confusion matrix with zeros\n",
    "    matrix = torch.zeros(num_classes, num_classes, dtype=torch.int64)\n",
    "\n",
    "    # Populate the confusion matrix\n",
    "    #for A in (labels, preds):\n",
    "    #    matrix[int(A[0])][ int(A[1])] += 1\n",
    "        \n",
    "    for i in range(0,len(y_true),1):\n",
    "        matrix[int(y_true[i])][int(y_pred[i])] +=1\n",
    "\n",
    "    return matrix"
   ]
  },
  {
   "cell_type": "code",
   "execution_count": 131,
   "metadata": {},
   "outputs": [
    {
     "name": "stdout",
     "output_type": "stream",
     "text": [
      "tensor([[528,   1,  18,  10,   0,  20,  23,   0,   0,   0],\n",
      "        [  0, 585,   2,   1,   0,  12,   0,   0,   0,   0],\n",
      "        [  3,   3, 566,   8,   0,  13,   7,   0,   0,   0],\n",
      "        [  3,   3,  19, 413,  22,  25,  10,   0,   4,   1],\n",
      "        [  0,   0,   0,  17, 479,   0,   0,   4,   0,   0],\n",
      "        [  1,  10,  19,   2,   0, 368,   0,   0,   0,   0],\n",
      "        [ 13,   2,  23,  12,   1,  19, 429,   0,   1,   0],\n",
      "        [  0,   0,  11,  49,  59,   4,   8, 469,   0,   0],\n",
      "        [  0,   1,   9,  14,   5,   5,   0,   0, 449,  17],\n",
      "        [  0,   0,   0,   0,   0,   0,   0,   0,   0, 600]])\n"
     ]
    }
   ],
   "source": [
    "mat = confusion_matrix(y_pred,y_true,len(class_dict))\n",
    "print(mat)"
   ]
  },
  {
   "cell_type": "code",
   "execution_count": 123,
   "metadata": {},
   "outputs": [],
   "source": [
    "from sklearn.metrics import confusion_matrix, ConfusionMatrixDisplay\n",
    "from sklearn.model_selection import train_test_split\n",
    "from sklearn.svm import SVC"
   ]
  },
  {
   "cell_type": "code",
   "execution_count": 133,
   "metadata": {},
   "outputs": [],
   "source": [
    "\n",
    "# Create confusion matrix\n",
    "cm = confusion_matrix(y_true, y_pred,10)"
   ]
  },
  {
   "cell_type": "code",
   "execution_count": 136,
   "metadata": {},
   "outputs": [],
   "source": [
    "cm2 = np.asarray(cm)"
   ]
  },
  {
   "cell_type": "code",
   "execution_count": 143,
   "metadata": {},
   "outputs": [
    {
     "data": {
      "image/png": "[encoded data removed]",
      "text/plain": [
       "<Figure size 640x480 with 2 Axes>"
      ]
     },
     "metadata": {},
     "output_type": "display_data"
    },
    {
     "data": {
      "text/plain": [
       "<Figure size 600x600 with 0 Axes>"
      ]
     },
     "metadata": {},
     "output_type": "display_data"
    }
   ],
   "source": [
    "disp = ConfusionMatrixDisplay(confusion_matrix=cm2, display_labels = [0,1,2,3,4,5,6,7,8,9])\n",
    "disp.plot()\n",
    "plt.show()"
   ]
  }
 ],
 "metadata": {
  "kernelspec": {
   "display_name": "Python 3",
   "language": "python",
   "name": "python3"
  },
  "language_info": {
   "codemirror_mode": {
    "name": "ipython",
    "version": 3
   },
   "file_extension": ".py",
   "mimetype": "text/x-python",
   "name": "python",
   "nbconvert_exporter": "python",
   "pygments_lexer": "ipython3",
   "version": "3.10.6"
  }
 },
 "nbformat": 4,
 "nbformat_minor": 2
}
