{
 "cells": [
  {
   "cell_type": "markdown",
   "metadata": {},
   "source": [
    "### import torch "
   ]
  },
  {
   "cell_type": "code",
   "execution_count": 46,
   "metadata": {},
   "outputs": [
    {
     "data": {
      "text/plain": [
       "'2.0.0+cpu'"
      ]
     },
     "execution_count": 46,
     "metadata": {},
     "output_type": "execute_result"
    }
   ],
   "source": [
    "import torch\n",
    "from torch import nn\n",
    "from torch.utils.data import DataLoader\n",
    "from torchvision import datasets, transforms\n",
    "import numpy as np\n",
    "\n",
    "# Note: this notebook requires torch >= 1.10.0\n",
    "torch.__version__"
   ]
  },
  {
   "cell_type": "code",
   "execution_count": 47,
   "metadata": {},
   "outputs": [
    {
     "data": {
      "text/plain": [
       "'cpu'"
      ]
     },
     "execution_count": 47,
     "metadata": {},
     "output_type": "execute_result"
    }
   ],
   "source": [
    "# Setup device-agnostic code\n",
    "device = \"cuda\" if torch.cuda.is_available() else \"cpu\"\n",
    "device"
   ]
  },
  {
   "cell_type": "code",
   "execution_count": 48,
   "metadata": {},
   "outputs": [],
   "source": [
    "from matplotlib import pyplot as plt"
   ]
  },
  {
   "cell_type": "code",
   "execution_count": 49,
   "metadata": {},
   "outputs": [],
   "source": [
    "import requests\n",
    "import zipfile\n",
    "from pathlib import Path\n",
    "\n",
    "# Setup path to data folder\n",
    "data_path = Path(\"../data/\")\n",
    "image_path = data_path / \"Euro_MS_Test_red\""
   ]
  },
  {
   "cell_type": "markdown",
   "metadata": {},
   "source": [
    "### Walkthrough of DIR"
   ]
  },
  {
   "cell_type": "code",
   "execution_count": 50,
   "metadata": {},
   "outputs": [],
   "source": [
    "import os\n",
    "def walk_through_dir(dir_path):\n",
    "  \"\"\"\n",
    "  Walks through dir_path returning its contents.\n",
    "  Args:\n",
    "    dir_path (str or pathlib.Path): target directory\n",
    "  \n",
    "  Returns:\n",
    "    A print out of:\n",
    "      number of subdiretories in dir_path\n",
    "      number of images (files) in each subdirectory\n",
    "      name of each subdirectory\n",
    "  \"\"\"\n",
    "  for dirpath, dirnames, filenames in os.walk(dir_path):\n",
    "    print(f\"There are {len(dirnames)} directories and {len(filenames)} images in '{dirpath}'.\")"
   ]
  },
  {
   "cell_type": "code",
   "execution_count": 51,
   "metadata": {},
   "outputs": [
    {
     "name": "stdout",
     "output_type": "stream",
     "text": [
      "There are 2 directories and 0 images in '..\\data\\Euro_MS_Test_red'.\n",
      "There are 10 directories and 0 images in '..\\data\\Euro_MS_Test_red\\test'.\n",
      "There are 0 directories and 6 images in '..\\data\\Euro_MS_Test_red\\test\\AnnualCrop'.\n",
      "There are 0 directories and 6 images in '..\\data\\Euro_MS_Test_red\\test\\Forest'.\n",
      "There are 0 directories and 6 images in '..\\data\\Euro_MS_Test_red\\test\\HerbaceousVegetation'.\n",
      "There are 0 directories and 5 images in '..\\data\\Euro_MS_Test_red\\test\\Highway'.\n",
      "There are 0 directories and 5 images in '..\\data\\Euro_MS_Test_red\\test\\Industrial'.\n",
      "There are 0 directories and 4 images in '..\\data\\Euro_MS_Test_red\\test\\Pasture'.\n",
      "There are 0 directories and 5 images in '..\\data\\Euro_MS_Test_red\\test\\PermanentCrop'.\n",
      "There are 0 directories and 6 images in '..\\data\\Euro_MS_Test_red\\test\\Residential'.\n",
      "There are 0 directories and 5 images in '..\\data\\Euro_MS_Test_red\\test\\River'.\n",
      "There are 0 directories and 6 images in '..\\data\\Euro_MS_Test_red\\test\\SeaLake'.\n",
      "There are 10 directories and 0 images in '..\\data\\Euro_MS_Test_red\\train'.\n",
      "There are 0 directories and 24 images in '..\\data\\Euro_MS_Test_red\\train\\AnnualCrop'.\n",
      "There are 0 directories and 24 images in '..\\data\\Euro_MS_Test_red\\train\\Forest'.\n",
      "There are 0 directories and 24 images in '..\\data\\Euro_MS_Test_red\\train\\HerbaceousVegetation'.\n",
      "There are 0 directories and 20 images in '..\\data\\Euro_MS_Test_red\\train\\Highway'.\n",
      "There are 0 directories and 20 images in '..\\data\\Euro_MS_Test_red\\train\\Industrial'.\n",
      "There are 0 directories and 16 images in '..\\data\\Euro_MS_Test_red\\train\\Pasture'.\n",
      "There are 0 directories and 20 images in '..\\data\\Euro_MS_Test_red\\train\\PermanentCrop'.\n",
      "There are 0 directories and 24 images in '..\\data\\Euro_MS_Test_red\\train\\Residential'.\n",
      "There are 0 directories and 20 images in '..\\data\\Euro_MS_Test_red\\train\\River'.\n",
      "There are 0 directories and 24 images in '..\\data\\Euro_MS_Test_red\\train\\SeaLake'.\n"
     ]
    }
   ],
   "source": [
    "walk_through_dir(image_path)"
   ]
  },
  {
   "cell_type": "code",
   "execution_count": 52,
   "metadata": {},
   "outputs": [
    {
     "data": {
      "text/plain": [
       "(WindowsPath('../data/Euro_MS_Test_red/train'),\n",
       " WindowsPath('../data/Euro_MS_Test_red/test'))"
      ]
     },
     "execution_count": 52,
     "metadata": {},
     "output_type": "execute_result"
    }
   ],
   "source": [
    "# Setup train and testing paths\n",
    "train_dir = image_path / \"train\"\n",
    "test_dir = image_path / \"test\"\n",
    "\n",
    "train_dir, test_dir"
   ]
  },
  {
   "cell_type": "code",
   "execution_count": 53,
   "metadata": {},
   "outputs": [
    {
     "name": "stdout",
     "output_type": "stream",
     "text": [
      "Image size: 64 x 64\n",
      "Number of bands: 13\n",
      "Data type: uint16\n",
      "CRS (Coordinate Reference System): EPSG:32634\n",
      "(13, 64, 64)\n",
      "(64, 64)\n"
     ]
    }
   ],
   "source": [
    "import random\n",
    "import rasterio\n",
    "from PIL import Image\n",
    "\n",
    "# Set seed\n",
    "random.seed(42) # <- try changing this and see what happens\n",
    "\n",
    "# 1. Get all image paths (* means \"any combination\")\n",
    "image_path_list = list(image_path.glob(\"*/*/*.tif\"))\n",
    "\n",
    "# 2. Get random image path\n",
    "random_image_path = random.choice(image_path_list)\n",
    "\n",
    "# 3. Get image class from path name (the image class is the name of the directory where the image is stored)\n",
    "image_class = random_image_path.parent.stem\n",
    "\n",
    "# 4. Open image in array format\n",
    "\n",
    "with rasterio.open(random_image_path) as img:\n",
    "    # Read the image as a NumPy array\n",
    "    image_array = img.read()  # By default, reads all bands\n",
    "    # You can specify a specific band using dataset.read(1) for the first band\n",
    "\n",
    "# Display basic information about the image\n",
    "print(f\"Image size: {img.width} x {img.height}\")\n",
    "print(f\"Number of bands: {img.count}\")\n",
    "print(f\"Data type: {img.dtypes[0]}\")\n",
    "print(f\"CRS (Coordinate Reference System): {img.crs}\")\n",
    "\n",
    "# Print the NumPy array\n",
    "print(image_array.shape)\n",
    "print(image_array[0].shape)"
   ]
  },
  {
   "cell_type": "code",
   "execution_count": 54,
   "metadata": {},
   "outputs": [
    {
     "data": {
      "text/plain": [
       "(13, 64, 64)"
      ]
     },
     "execution_count": 54,
     "metadata": {},
     "output_type": "execute_result"
    }
   ],
   "source": [
    "img_as_array = np.asarray(image_array,dtype=np.float64)\n",
    "image_array.shape"
   ]
  },
  {
   "cell_type": "code",
   "execution_count": 55,
   "metadata": {},
   "outputs": [
    {
     "name": "stdout",
     "output_type": "stream",
     "text": [
      "tensor([[[1244., 1244., 1245.,  ..., 1255., 1255., 1255.],\n",
      "         [1244., 1244., 1245.,  ..., 1255., 1255., 1255.],\n",
      "         [1245., 1245., 1245.,  ..., 1256., 1255., 1255.],\n",
      "         ...,\n",
      "         [1292., 1292., 1293.,  ..., 1317., 1331., 1346.],\n",
      "         [1302., 1302., 1303.,  ..., 1315., 1329., 1344.],\n",
      "         [1314., 1314., 1314.,  ..., 1313., 1327., 1342.]],\n",
      "\n",
      "        [[ 987.,  987.,  963.,  ...,  982.,  996.,  986.],\n",
      "         [ 987.,  987.,  963.,  ...,  982.,  996.,  986.],\n",
      "         [1003., 1003.,  984.,  ..., 1008.,  989.,  985.],\n",
      "         ...,\n",
      "         [1038., 1038., 1061.,  ..., 1012., 1015., 1040.],\n",
      "         [1052., 1052., 1065.,  ..., 1011., 1018., 1026.],\n",
      "         [1057., 1057., 1063.,  ...,  997., 1018., 1023.]],\n",
      "\n",
      "        [[ 876.,  876.,  879.,  ...,  900.,  904.,  888.],\n",
      "         [ 876.,  876.,  879.,  ...,  900.,  904.,  888.],\n",
      "         [ 898.,  898.,  887.,  ...,  895.,  895.,  882.],\n",
      "         ...,\n",
      "         [1047., 1047., 1061.,  ...,  917.,  924.,  957.],\n",
      "         [1061., 1061., 1070.,  ...,  921.,  909.,  937.],\n",
      "         [1060., 1060., 1064.,  ...,  923.,  922.,  948.]],\n",
      "\n",
      "        ...,\n",
      "\n",
      "        [[1736., 1736., 1699.,  ..., 1757., 1765., 1761.],\n",
      "         [1736., 1736., 1699.,  ..., 1757., 1765., 1761.],\n",
      "         [1758., 1758., 1727.,  ..., 1752., 1760., 1754.],\n",
      "         ...,\n",
      "         [1770., 1770., 1706.,  ..., 1836., 2045., 2389.],\n",
      "         [1804., 1804., 1745.,  ..., 1846., 2036., 2360.],\n",
      "         [1875., 1875., 1824.,  ..., 1850., 2024., 2326.]],\n",
      "\n",
      "        [[ 859.,  859.,  838.,  ...,  846.,  848.,  848.],\n",
      "         [ 859.,  859.,  838.,  ...,  846.,  848.,  848.],\n",
      "         [ 880.,  880.,  862.,  ...,  843.,  845.,  844.],\n",
      "         ...,\n",
      "         [ 869.,  869.,  844.,  ...,  998., 1134., 1354.],\n",
      "         [ 886.,  886.,  859.,  ...,  990., 1115., 1326.],\n",
      "         [ 928.,  928.,  901.,  ...,  978., 1095., 1302.]],\n",
      "\n",
      "        [[3205., 3205., 3187.,  ..., 3270., 3267., 3266.],\n",
      "         [3205., 3205., 3187.,  ..., 3270., 3267., 3266.],\n",
      "         [3199., 3199., 3186.,  ..., 3262., 3263., 3260.],\n",
      "         ...,\n",
      "         [3426., 3426., 3300.,  ..., 3018., 3043., 3083.],\n",
      "         [3454., 3454., 3338.,  ..., 3038., 3064., 3106.],\n",
      "         [3478., 3478., 3376.,  ..., 3052., 3083., 3131.]]],\n",
      "       dtype=torch.float64)\n"
     ]
    }
   ],
   "source": [
    "def custom_totensor(image):\n",
    "    tensor = torch.from_numpy(image)\n",
    "    return tensor\n",
    "\n",
    "print(custom_totensor(img_as_array))\n",
    "\n"
   ]
  },
  {
   "cell_type": "code",
   "execution_count": 56,
   "metadata": {},
   "outputs": [
    {
     "data": {
      "text/plain": [
       "<matplotlib.image.AxesImage at 0x174487d57b0>"
      ]
     },
     "execution_count": 56,
     "metadata": {},
     "output_type": "execute_result"
    },
    {
     "data": {
      "image/png": "[encoded data removed]",
      "text/plain": [
       "<Figure size 640x480 with 1 Axes>"
      ]
     },
     "metadata": {},
     "output_type": "display_data"
    }
   ],
   "source": [
    "plt.imshow(image_array[2])"
   ]
  },
  {
   "cell_type": "code",
   "execution_count": 57,
   "metadata": {},
   "outputs": [],
   "source": [
    "# Write transform for image\n",
    "data_transform = transforms.Compose([\n",
    "    # Turn the image into a torch.Tensor\n",
    "    transforms.ToTensor() # this also converts all pixel values from 0 to 255 to be between 0.0 and 1.0 \n",
    "])"
   ]
  },
  {
   "cell_type": "code",
   "execution_count": 58,
   "metadata": {},
   "outputs": [
    {
     "data": {
      "image/png": "[encoded data removed]",
      "text/plain": [
       "<Figure size 640x480 with 2 Axes>"
      ]
     },
     "metadata": {},
     "output_type": "display_data"
    },
    {
     "data": {
      "image/png": "[encoded data removed]",
      "text/plain": [
       "<Figure size 640x480 with 2 Axes>"
      ]
     },
     "metadata": {},
     "output_type": "display_data"
    },
    {
     "data": {
      "image/png": "[encoded data removed]",
      "text/plain": [
       "<Figure size 640x480 with 2 Axes>"
      ]
     },
     "metadata": {},
     "output_type": "display_data"
    }
   ],
   "source": [
    "def plot_transformed_images(image_paths, transform, n=3, seed=42):\n",
    "    \"\"\"Plots a series of random images from image_paths.\n",
    "\n",
    "    Will open n image paths from image_paths, transform them\n",
    "    with transform and plot them side by side.\n",
    "\n",
    "    Args:\n",
    "        image_paths (list): List of target image paths. \n",
    "        transform (PyTorch Transforms): Transforms to apply to images.\n",
    "        n (int, optional): Number of images to plot. Defaults to 3.\n",
    "        seed (int, optional): Random seed for the random generator. Defaults to 42.\n",
    "    \"\"\"\n",
    "    random.seed(seed)\n",
    "    random_image_paths = random.sample(image_paths, k=n)\n",
    "    for image_path in random_image_paths:\n",
    "        with rasterio.open(image_path) as f:\n",
    "            fig, ax = plt.subplots(1, 2)\n",
    "            im_temp = f.read()\n",
    "            ax[0].imshow(im_temp[3]) \n",
    "            ax[0].set_title(f\"Original \\nSize: {im_temp.shape}\")\n",
    "            ax[0].axis(\"off\")\n",
    "\n",
    "            # Transform and plot image\n",
    "            # Note: permute() will change shape of image to suit matplotlib \n",
    "            # (PyTorch default is [C, H, W] but Matplotlib is [H, W, C])\n",
    "            im_arr = np.asarray(im_temp,dtype=np.float32)\n",
    "            transformed_image = transform(im_arr)\n",
    "            transformed_image = transformed_image.permute(2,0,1)\n",
    "            ax[1].imshow(transformed_image[:,:,3]) \n",
    "            ax[1].imshow(im_arr[3])\n",
    "            ax[1].set_title(f\"Transformed \\nSize: {transformed_image.shape}\")\n",
    "            ax[1].axis(\"off\")\n",
    "\n",
    "            fig.suptitle(f\"Class: {image_path.parent.stem}\", fontsize=16)\n",
    "\n",
    "plot_transformed_images(image_path_list, \n",
    "                        transform=data_transform, \n",
    "                        n=3)"
   ]
  },
  {
   "cell_type": "code",
   "execution_count": 59,
   "metadata": {},
   "outputs": [],
   "source": [
    "import torch\n",
    "from torch.utils.data import Dataset, DataLoader\n",
    "from torchvision import transforms, datasets\n"
   ]
  },
  {
   "cell_type": "code",
   "execution_count": 60,
   "metadata": {},
   "outputs": [],
   "source": [
    "class CustomImageFolder(Dataset):\n",
    "    def __init__(self, root_dir, transform=None):\n",
    "        self.root_dir = root_dir\n",
    "        self.transform = transform\n",
    "        self.classes, self.class_to_idx = self._find_classes()\n",
    "        self.samples = self._make_dataset()\n",
    "\n",
    "    def _find_classes(self):\n",
    "        classes = [d.name for d in os.scandir(self.root_dir) if d.is_dir()]\n",
    "        classes.sort()\n",
    "        class_to_idx = {cls_name: i for i, cls_name in enumerate(classes)}\n",
    "        return classes, class_to_idx\n",
    "\n",
    "    def _make_dataset(self):\n",
    "        images = []\n",
    "        for target_class in sorted(self.class_to_idx.keys()):\n",
    "            class_index = self.class_to_idx[target_class]\n",
    "            target_dir = os.path.join(self.root_dir, target_class)\n",
    "            for root, _, fnames in sorted(os.walk(target_dir, followlinks=True)):\n",
    "                for fname in sorted(fnames):\n",
    "                    path = os.path.join(root, fname)\n",
    "                    item = (path, class_index)\n",
    "                    images.append(item)\n",
    "        return images\n",
    "\n",
    "    def __len__(self):\n",
    "        return len(self.samples)\n",
    "    \n",
    "    def __getitem__(self, index):\n",
    "        path, target = self.samples[index]\n",
    "        with rasterio.open(path) as f:\n",
    "            img_dat = f.read()\n",
    "            img = np.asarray(img_dat,dtype=np.float32)\n",
    "        if self.transform is not None:\n",
    "            img = self.transform(img)\n",
    "        return img, target"
   ]
  },
  {
   "cell_type": "code",
   "execution_count": 61,
   "metadata": {},
   "outputs": [],
   "source": [
    "import random\n"
   ]
  },
  {
   "cell_type": "code",
   "execution_count": 62,
   "metadata": {},
   "outputs": [],
   "source": [
    "class CustomImageFolder_Size(Dataset):\n",
    "    def __init__(self, root_dir, transform=None):\n",
    "        self.root_dir = root_dir\n",
    "        self.transform = transform\n",
    "        self.classes, self.class_to_idx = self._find_classes()\n",
    "        self.samples = self._make_dataset()\n",
    "\n",
    "    def _find_classes(self):\n",
    "        classes = [d.name for d in os.scandir(self.root_dir) if d.is_dir()]\n",
    "        classes.sort()\n",
    "        class_to_idx = {cls_name: i for i, cls_name in enumerate(classes)}\n",
    "        return classes, class_to_idx\n",
    "\n",
    "    def _make_dataset(self):\n",
    "        images = []\n",
    "        for target_class in sorted(self.class_to_idx.keys()):\n",
    "            class_index = self.class_to_idx[target_class]\n",
    "            target_dir = os.path.join(self.root_dir, target_class)\n",
    "            for root, _, fnames in sorted(os.walk(target_dir, followlinks=True)):     \n",
    "                for fname in sorted(fnames):\n",
    "                    path = os.path.join(root, fname)\n",
    "                    item = (path, class_index)\n",
    "                    images.append(item)\n",
    "        return images\n",
    "\n",
    "    def __len__(self):\n",
    "        return len(self.samples)\n",
    "    \n",
    "    def __getitem__(self, index):\n",
    "        path, target = self.samples[index]\n",
    "        with rasterio.open(path) as f:\n",
    "            img_dat = f.read()\n",
    "            img = np.asarray(img_dat,dtype=np.float32)\n",
    "        if self.transform is not None:\n",
    "            img = self.transform(img)\n",
    "            img = img.permute(1,0,2)                      # to get [height,width,colour_channel as op]\n",
    "        return img, target\n",
    "    \n",
    "    def set_samples(self, num_samples):\n",
    "        self.samples = self.samples[:num_samples]"
   ]
  },
  {
   "cell_type": "code",
   "execution_count": 63,
   "metadata": {},
   "outputs": [
    {
     "name": "stdout",
     "output_type": "stream",
     "text": [
      "Train data:\n",
      "<__main__.CustomImageFolder_Size object at 0x00000174488F4490>\n",
      "Test data:\n",
      "<__main__.CustomImageFolder_Size object at 0x000001744399A800>\n"
     ]
    }
   ],
   "source": [
    "# Use ImageFolder to create dataset(s)\n",
    "\n",
    "# presently testing out a data set for customized size\n",
    "\n",
    "train_data = CustomImageFolder_Size(root_dir=train_dir, # target folder of images\n",
    "                                  transform=data_transform,\n",
    "                                  ) # transforms to perform on data (images)\n",
    "                        \n",
    "\n",
    "test_data = CustomImageFolder_Size(root_dir=test_dir, \n",
    "                                 transform=data_transform,)\n",
    "\n",
    "print(f\"Train data:\\n{train_data}\\nTest data:\\n{test_data}\")"
   ]
  },
  {
   "cell_type": "code",
   "execution_count": 64,
   "metadata": {},
   "outputs": [
    {
     "data": {
      "text/plain": [
       "'train_data.set_samples(1000)\\ntest_data.set_samples(200)'"
      ]
     },
     "execution_count": 64,
     "metadata": {},
     "output_type": "execute_result"
    }
   ],
   "source": [
    "\"\"\"train_data.set_samples(1000)\n",
    "test_data.set_samples(200)\"\"\"\n",
    "\n",
    "#doesnt work idk why"
   ]
  },
  {
   "cell_type": "code",
   "execution_count": null,
   "metadata": {},
   "outputs": [],
   "source": []
  },
  {
   "cell_type": "code",
   "execution_count": 65,
   "metadata": {},
   "outputs": [
    {
     "data": {
      "text/plain": [
       "['AnnualCrop',\n",
       " 'Forest',\n",
       " 'HerbaceousVegetation',\n",
       " 'Highway',\n",
       " 'Industrial',\n",
       " 'Pasture',\n",
       " 'PermanentCrop',\n",
       " 'Residential',\n",
       " 'River',\n",
       " 'SeaLake']"
      ]
     },
     "execution_count": 65,
     "metadata": {},
     "output_type": "execute_result"
    }
   ],
   "source": [
    "# Get class names as a list\n",
    "class_names = train_data.classes\n",
    "class_names"
   ]
  },
  {
   "cell_type": "code",
   "execution_count": 66,
   "metadata": {},
   "outputs": [
    {
     "data": {
      "text/plain": [
       "{'AnnualCrop': 0,\n",
       " 'Forest': 1,\n",
       " 'HerbaceousVegetation': 2,\n",
       " 'Highway': 3,\n",
       " 'Industrial': 4,\n",
       " 'Pasture': 5,\n",
       " 'PermanentCrop': 6,\n",
       " 'Residential': 7,\n",
       " 'River': 8,\n",
       " 'SeaLake': 9}"
      ]
     },
     "execution_count": 66,
     "metadata": {},
     "output_type": "execute_result"
    }
   ],
   "source": [
    "# Can also get class names as a dict\n",
    "class_dict = train_data.class_to_idx\n",
    "class_dict"
   ]
  },
  {
   "cell_type": "code",
   "execution_count": 67,
   "metadata": {},
   "outputs": [
    {
     "data": {
      "text/plain": [
       "(216, 54)"
      ]
     },
     "execution_count": 67,
     "metadata": {},
     "output_type": "execute_result"
    }
   ],
   "source": [
    "# Check the lengths\n",
    "len(train_data), len(test_data)"
   ]
  },
  {
   "cell_type": "code",
   "execution_count": 68,
   "metadata": {},
   "outputs": [
    {
     "name": "stdout",
     "output_type": "stream",
     "text": [
      "Image tensor:\n",
      "tensor([[[1296., 1296., 1296.,  ..., 1333., 1336., 1338.],\n",
      "         [1296., 1296., 1296.,  ..., 1333., 1336., 1338.],\n",
      "         [1294., 1294., 1295.,  ..., 1331., 1334., 1337.],\n",
      "         ...,\n",
      "         [1245., 1245., 1245.,  ..., 1288., 1285., 1280.],\n",
      "         [1244., 1244., 1244.,  ..., 1291., 1288., 1283.],\n",
      "         [1244., 1244., 1244.,  ..., 1293., 1290., 1286.]],\n",
      "\n",
      "        [[1051., 1051., 1047.,  ..., 1248., 1225., 1232.],\n",
      "         [1051., 1051., 1047.,  ..., 1248., 1225., 1232.],\n",
      "         [1057., 1057., 1043.,  ..., 1241., 1256., 1228.],\n",
      "         ...,\n",
      "         [ 975.,  975.,  963.,  ..., 1288., 1203., 1070.],\n",
      "         [ 981.,  981.,  978.,  ..., 1309., 1296., 1174.],\n",
      "         [ 971.,  971.,  987.,  ..., 1183., 1262., 1276.]],\n",
      "\n",
      "        [[1080., 1080., 1067.,  ..., 1348., 1313., 1313.],\n",
      "         [1080., 1080., 1067.,  ..., 1348., 1313., 1313.],\n",
      "         [1082., 1082., 1074.,  ..., 1380., 1372., 1315.],\n",
      "         ...,\n",
      "         [ 868.,  868.,  883.,  ..., 1380., 1260., 1015.],\n",
      "         [ 872.,  872.,  877.,  ..., 1419., 1388., 1195.],\n",
      "         [ 877.,  877.,  871.,  ..., 1224., 1302., 1349.]],\n",
      "\n",
      "        ...,\n",
      "\n",
      "        [[1959., 1959., 1952.,  ..., 4293., 4304., 4307.],\n",
      "         [1959., 1959., 1952.,  ..., 4293., 4304., 4307.],\n",
      "         [1949., 1949., 1941.,  ..., 4279., 4299., 4305.],\n",
      "         ...,\n",
      "         [1707., 1707., 1711.,  ..., 3242., 2947., 2578.],\n",
      "         [1706., 1706., 1708.,  ..., 3352., 3171., 2867.],\n",
      "         [1696., 1696., 1696.,  ..., 3332., 3275., 3094.]],\n",
      "\n",
      "        [[ 714.,  714.,  713.,  ..., 2417., 2430., 2437.],\n",
      "         [ 714.,  714.,  713.,  ..., 2417., 2430., 2437.],\n",
      "         [ 712.,  712.,  711.,  ..., 2402., 2421., 2430.],\n",
      "         ...,\n",
      "         [ 716.,  716.,  712.,  ..., 1827., 1624., 1364.],\n",
      "         [ 711.,  711.,  709.,  ..., 1899., 1779., 1567.],\n",
      "         [ 701.,  701.,  700.,  ..., 1889., 1854., 1729.]],\n",
      "\n",
      "        [[5701., 5701., 5670.,  ..., 4046., 4057., 4058.],\n",
      "         [5701., 5701., 5670.,  ..., 4046., 4057., 4058.],\n",
      "         [5656., 5656., 5639.,  ..., 4050., 4067., 4063.],\n",
      "         ...,\n",
      "         [4138., 4138., 4138.,  ..., 3841., 3930., 3994.],\n",
      "         [4151., 4151., 4143.,  ..., 3669., 3805., 3915.],\n",
      "         [4175., 4175., 4163.,  ..., 3454., 3627., 3793.]]])\n",
      "Image shape: torch.Size([13, 64, 64])\n",
      "Image datatype: torch.float32\n",
      "Image label: 0\n",
      "Label datatype: <class 'int'>\n"
     ]
    }
   ],
   "source": [
    "img, label = train_data[9][0], train_data[9][1]\n",
    "print(f\"Image tensor:\\n{img}\")\n",
    "print(f\"Image shape: {img.shape}\")\n",
    "print(f\"Image datatype: {img.dtype}\")\n",
    "print(f\"Image label: {label}\")\n",
    "print(f\"Label datatype: {type(label)}\")"
   ]
  },
  {
   "cell_type": "code",
   "execution_count": 69,
   "metadata": {},
   "outputs": [
    {
     "name": "stdout",
     "output_type": "stream",
     "text": [
      "Original shape: torch.Size([13, 64, 64]) -> [ [height,color_channels, , width] -> [height, width, color_channels] \n",
      "Image permute shape: torch.Size([64, 64, 13]) -> [height, width, color_channels]\n"
     ]
    },
    {
     "data": {
      "text/plain": [
       "Text(0.5, 1.0, 'AnnualCrop')"
      ]
     },
     "execution_count": 69,
     "metadata": {},
     "output_type": "execute_result"
    },
    {
     "data": {
      "image/png": "[encoded data removed]",
      "text/plain": [
       "<Figure size 1000x700 with 1 Axes>"
      ]
     },
     "metadata": {},
     "output_type": "display_data"
    }
   ],
   "source": [
    "# Rearrange the order of dimensions\n",
    "\n",
    "img_permute = img.permute(2,1,0)\n",
    "\n",
    "# Print out different shapes (before and after permute)\n",
    "print(f\"Original shape: {img.shape} -> [ [height,color_channels, , width] -> [height, width, color_channels] \")\n",
    "print(f\"Image permute shape: {img_permute.shape} -> [height, width, color_channels]\")\n",
    "\n",
    "# Plot the image\n",
    "plt.figure(figsize=(10, 7))\n",
    "plt.imshow(img_permute[:,:,4])\n",
    "plt.axis(\"off\")\n",
    "plt.title(class_names[label], fontsize=14)"
   ]
  },
  {
   "cell_type": "code",
   "execution_count": 70,
   "metadata": {},
   "outputs": [
    {
     "data": {
      "text/plain": [
       "(<torch.utils.data.dataloader.DataLoader at 0x17445ec1270>,\n",
       " <torch.utils.data.dataloader.DataLoader at 0x174487e9150>)"
      ]
     },
     "execution_count": 70,
     "metadata": {},
     "output_type": "execute_result"
    }
   ],
   "source": [
    "# Turn train and test Datasets into DataLoaders\n",
    "from torch.utils.data import DataLoader\n",
    "train_dataloader = DataLoader(dataset=train_data, \n",
    "                              batch_size=1, # how many samples per batch?\n",
    "                              #num_workers=1, # how many subprocesses to use for data loading? (higher = more)\n",
    "                              shuffle=True) # shuffle the data?\n",
    "\n",
    "test_dataloader = DataLoader(dataset=test_data, \n",
    "                             batch_size=1, \n",
    "                             #num_workers=1, \n",
    "                             shuffle=False) # don't usually need to shuffle testing data\n",
    "\n",
    "train_dataloader, test_dataloader"
   ]
  },
  {
   "cell_type": "code",
   "execution_count": 71,
   "metadata": {},
   "outputs": [
    {
     "data": {
      "text/plain": [
       "'# 1. Take in a Dataset as well as a list of class names\\ndef display_random_images(dataset: torch.utils.data.dataset.Dataset,\\n                          classes: List[str] = None,\\n                          n: int = 10,\\n                          display_shape: bool = True,\\n                          seed: int = None):\\n    \\n    # 2. Adjust display if n too high\\n    if n > 10:\\n        n = 10\\n        display_shape = False\\n        print(f\"For display purposes, n shouldn\\'t be larger than 10, setting to 10 and removing shape display.\")\\n    \\n    # 3. Set random seed\\n    if seed:\\n        random.seed(seed)\\n\\n    # 4. Get random sample indexes\\n    random_samples_idx = random.sample(range(len(dataset)), k=n)\\n\\n    # 5. Setup plot\\n    plt.figure(figsize=(16, 8))\\n\\n    # 6. Loop through samples and display random samples \\n    for i, targ_sample in enumerate(random_samples_idx):\\n        targ_image, targ_label = dataset[targ_sample][0], dataset[targ_sample][1]\\n\\n        # 7. Adjust image tensor shape for plotting: [color_channels, height, width] -> [color_channels, height, width]\\n        targ_image_adjust = targ_image.permute(1, 2, 0)\\n\\n        # Plot adjusted samples\\n        plt.subplot(1, n, i+1)\\n        plt.imshow(targ_image_adjust)\\n        plt.axis(\"off\")\\n        if classes:\\n            title = f\"class: {classes[targ_label]}\"\\n            if display_shape:\\n                title = title + f\"\\nshape: {targ_image_adjust.shape}\"\\n        plt.title(title)'"
      ]
     },
     "execution_count": 71,
     "metadata": {},
     "output_type": "execute_result"
    }
   ],
   "source": [
    "'''# 1. Take in a Dataset as well as a list of class names\n",
    "def display_random_images(dataset: torch.utils.data.dataset.Dataset,\n",
    "                          classes: List[str] = None,\n",
    "                          n: int = 10,\n",
    "                          display_shape: bool = True,\n",
    "                          seed: int = None):\n",
    "    \n",
    "    # 2. Adjust display if n too high\n",
    "    if n > 10:\n",
    "        n = 10\n",
    "        display_shape = False\n",
    "        print(f\"For display purposes, n shouldn't be larger than 10, setting to 10 and removing shape display.\")\n",
    "    \n",
    "    # 3. Set random seed\n",
    "    if seed:\n",
    "        random.seed(seed)\n",
    "\n",
    "    # 4. Get random sample indexes\n",
    "    random_samples_idx = random.sample(range(len(dataset)), k=n)\n",
    "\n",
    "    # 5. Setup plot\n",
    "    plt.figure(figsize=(16, 8))\n",
    "\n",
    "    # 6. Loop through samples and display random samples \n",
    "    for i, targ_sample in enumerate(random_samples_idx):\n",
    "        targ_image, targ_label = dataset[targ_sample][0], dataset[targ_sample][1]\n",
    "\n",
    "        # 7. Adjust image tensor shape for plotting: [color_channels, height, width] -> [color_channels, height, width]\n",
    "        targ_image_adjust = targ_image.permute(1, 2, 0)\n",
    "\n",
    "        # Plot adjusted samples\n",
    "        plt.subplot(1, n, i+1)\n",
    "        plt.imshow(targ_image_adjust)\n",
    "        plt.axis(\"off\")\n",
    "        if classes:\n",
    "            title = f\"class: {classes[targ_label]}\"\n",
    "            if display_shape:\n",
    "                title = title + f\"\\nshape: {targ_image_adjust.shape}\"\n",
    "        plt.title(title)'''"
   ]
  },
  {
   "cell_type": "code",
   "execution_count": 72,
   "metadata": {},
   "outputs": [
    {
     "name": "stdout",
     "output_type": "stream",
     "text": [
      "Image shape: torch.Size([1, 13, 64, 64]) -> [batch_size, color_channels, height, width]\n",
      "Label shape: torch.Size([1])\n"
     ]
    }
   ],
   "source": [
    "img, label = next(iter(train_dataloader))\n",
    "\n",
    "# Batch size will now be 1, try changing the batch_size parameter above and see what happens\n",
    "print(f\"Image shape: {img.shape} -> [batch_size, color_channels, height, width]\")\n",
    "print(f\"Label shape: {label.shape}\")"
   ]
  },
  {
   "cell_type": "markdown",
   "metadata": {},
   "source": [
    "## Tiny VGG"
   ]
  },
  {
   "cell_type": "code",
   "execution_count": 73,
   "metadata": {},
   "outputs": [
    {
     "data": {
      "text/plain": [
       "TinyVGG(\n",
       "  (conv_block_1): Sequential(\n",
       "    (0): Conv2d(13, 20, kernel_size=(3, 3), stride=(1, 1), padding=(1, 1))\n",
       "    (1): ReLU()\n",
       "    (2): Conv2d(20, 20, kernel_size=(3, 3), stride=(1, 1), padding=(1, 1))\n",
       "    (3): ReLU()\n",
       "    (4): MaxPool2d(kernel_size=2, stride=2, padding=0, dilation=1, ceil_mode=False)\n",
       "  )\n",
       "  (conv_block_2): Sequential(\n",
       "    (0): Conv2d(20, 20, kernel_size=(3, 3), stride=(1, 1), padding=(1, 1))\n",
       "    (1): ReLU()\n",
       "    (2): Conv2d(20, 20, kernel_size=(3, 3), stride=(1, 1), padding=(1, 1))\n",
       "    (3): ReLU()\n",
       "    (4): MaxPool2d(kernel_size=2, stride=2, padding=0, dilation=1, ceil_mode=False)\n",
       "  )\n",
       "  (classifier): Sequential(\n",
       "    (0): Flatten(start_dim=1, end_dim=-1)\n",
       "    (1): Linear(in_features=5120, out_features=10, bias=True)\n",
       "  )\n",
       ")"
      ]
     },
     "execution_count": 73,
     "metadata": {},
     "output_type": "execute_result"
    }
   ],
   "source": [
    "class TinyVGG(nn.Module):\n",
    "    \"\"\"\n",
    "    Model architecture copying TinyVGG from: \n",
    "    https://poloclub.github.io/cnn-explainer/\n",
    "    \"\"\"\n",
    "    def __init__(self, input_shape: int, hidden_units: int, output_shape: int) -> None:\n",
    "        super().__init__()\n",
    "        self.conv_block_1 = nn.Sequential(\n",
    "            nn.Conv2d(in_channels=input_shape, \n",
    "                      out_channels=hidden_units, \n",
    "                      kernel_size=3, # how big is the square that's going over the image?\n",
    "                      stride=1, # default\n",
    "                      padding=1), # options = \"valid\" (no padding) or \"same\" (output has same shape as input) or int for specific number \n",
    "            nn.ReLU(),\n",
    "            nn.Conv2d(in_channels=hidden_units, \n",
    "                      out_channels=hidden_units,\n",
    "                      kernel_size=3,\n",
    "                      stride=1,\n",
    "                      padding=1),\n",
    "            nn.ReLU(),\n",
    "            nn.MaxPool2d(kernel_size=2,\n",
    "                         stride=2) # default stride value is same as kernel_size\n",
    "        )\n",
    "        self.conv_block_2 = nn.Sequential(\n",
    "            nn.Conv2d(hidden_units, hidden_units, kernel_size=3, padding=1),\n",
    "            nn.ReLU(),\n",
    "            nn.Conv2d(hidden_units, hidden_units, kernel_size=3, padding=1),\n",
    "            nn.ReLU(),\n",
    "            nn.MaxPool2d(2)\n",
    "        )\n",
    "        self.classifier = nn.Sequential(\n",
    "            nn.Flatten(),\n",
    "            # Where did this in_features shape come from? \n",
    "            # It's because each layer of our network compresses and changes the shape of our inputs data.\n",
    "            nn.Linear(in_features=hidden_units*16*16,\n",
    "                      out_features=output_shape)\n",
    "        )\n",
    "    \n",
    "    def forward(self, x: torch.Tensor):\n",
    "        x = self.conv_block_1(x)\n",
    "        # print(x.shape)\n",
    "        x = self.conv_block_2(x)\n",
    "        # print(x.shape)\n",
    "        x = self.classifier(x)\n",
    "        # print(x.shape)\n",
    "        return x\n",
    "        # return self.classifier(self.conv_block_2(self.conv_block_1(x))) # <- leverage the benefits of operator fusion\n",
    "\n",
    "torch.manual_seed(42)\n",
    "model_0 = TinyVGG(input_shape=13, # number of color channels (3 for RGB) \n",
    "                  hidden_units=20, \n",
    "                  output_shape=len(train_data.classes)).to(device)\n",
    "model_0"
   ]
  },
  {
   "cell_type": "code",
   "execution_count": 74,
   "metadata": {},
   "outputs": [
    {
     "name": "stdout",
     "output_type": "stream",
     "text": [
      "Single image shape: torch.Size([1, 13, 64, 64])\n",
      "\n",
      "Output logits:\n",
      "tensor([[ 12.7129, -31.4623,   1.8756,   4.1760,  17.3178, -18.5360,  -0.1992,\n",
      "          25.4001, -32.6747,  42.7262]])\n",
      "\n",
      "Output prediction probabilities:\n",
      "tensor([[9.2339e-14, 6.0307e-33, 1.8148e-18, 1.8109e-17, 9.2321e-12, 2.4783e-27,\n",
      "         2.2790e-19, 2.9881e-08, 1.7939e-33, 1.0000e+00]])\n",
      "\n",
      "Output prediction label:\n",
      "tensor([9])\n",
      "\n",
      "Actual label:\n",
      "4\n"
     ]
    }
   ],
   "source": [
    "\n",
    "# 1. Get a batch of images and labels from the DataLoader\n",
    "img_batch, label_batch = next(iter(train_dataloader))\n",
    "\n",
    "# 2. Get a single image from the batch and unsqueeze the image so its shape fits the model\n",
    "img_single, label_single = img_batch[0].unsqueeze(dim=0), label_batch[0]\n",
    "print(f\"Single image shape: {img_single.shape}\\n\")\n",
    "\n",
    "# 3. Perform a forward pass on a single image\n",
    "model_0.eval()\n",
    "with torch.inference_mode():\n",
    "    pred = model_0(img_single.to(device))\n",
    "    \n",
    "# 4. Print out what's happening and convert model logits -> pred probs -> pred label\n",
    "print(f\"Output logits:\\n{pred}\\n\")\n",
    "print(f\"Output prediction probabilities:\\n{torch.softmax(pred, dim=1)}\\n\")\n",
    "print(f\"Output prediction label:\\n{torch.argmax(torch.softmax(pred, dim=1), dim=1)}\\n\")\n",
    "print(f\"Actual label:\\n{label_single}\")"
   ]
  },
  {
   "cell_type": "code",
   "execution_count": 75,
   "metadata": {},
   "outputs": [
    {
     "data": {
      "text/plain": [
       "==========================================================================================\n",
       "Layer (type:depth-idx)                   Output Shape              Param #\n",
       "==========================================================================================\n",
       "TinyVGG                                  [1, 10]                   --\n",
       "├─Sequential: 1-1                        [1, 20, 32, 32]           --\n",
       "│    └─Conv2d: 2-1                       [1, 20, 64, 64]           2,360\n",
       "│    └─ReLU: 2-2                         [1, 20, 64, 64]           --\n",
       "│    └─Conv2d: 2-3                       [1, 20, 64, 64]           3,620\n",
       "│    └─ReLU: 2-4                         [1, 20, 64, 64]           --\n",
       "│    └─MaxPool2d: 2-5                    [1, 20, 32, 32]           --\n",
       "├─Sequential: 1-2                        [1, 20, 16, 16]           --\n",
       "│    └─Conv2d: 2-6                       [1, 20, 32, 32]           3,620\n",
       "│    └─ReLU: 2-7                         [1, 20, 32, 32]           --\n",
       "│    └─Conv2d: 2-8                       [1, 20, 32, 32]           3,620\n",
       "│    └─ReLU: 2-9                         [1, 20, 32, 32]           --\n",
       "│    └─MaxPool2d: 2-10                   [1, 20, 16, 16]           --\n",
       "├─Sequential: 1-3                        [1, 10]                   --\n",
       "│    └─Flatten: 2-11                     [1, 5120]                 --\n",
       "│    └─Linear: 2-12                      [1, 10]                   51,210\n",
       "==========================================================================================\n",
       "Total params: 64,430\n",
       "Trainable params: 64,430\n",
       "Non-trainable params: 0\n",
       "Total mult-adds (M): 31.96\n",
       "==========================================================================================\n",
       "Input size (MB): 0.21\n",
       "Forward/backward pass size (MB): 1.64\n",
       "Params size (MB): 0.26\n",
       "Estimated Total Size (MB): 2.11\n",
       "=========================================================================================="
      ]
     },
     "execution_count": 75,
     "metadata": {},
     "output_type": "execute_result"
    }
   ],
   "source": [
    "try: \n",
    "    import torchinfo\n",
    "except:\n",
    "    !pip install torchinfo\n",
    "    import torchinfo\n",
    "    \n",
    "from torchinfo import summary\n",
    "summary(model_0, input_size=[1, 13, 64, 64]) # do a test pass through of an example input size "
   ]
  },
  {
   "cell_type": "code",
   "execution_count": 76,
   "metadata": {},
   "outputs": [],
   "source": [
    "def train_step(model: torch.nn.Module, \n",
    "               dataloader: torch.utils.data.DataLoader, \n",
    "               loss_fn: torch.nn.Module, \n",
    "               optimizer: torch.optim.Optimizer):\n",
    "    # Put model in train mode\n",
    "    model.train()\n",
    "    \n",
    "    # Setup train loss and train accuracy values\n",
    "    train_loss, train_acc = 0, 0\n",
    "    \n",
    "    # Loop through data loader data batches\n",
    "    for batch, (X, y) in enumerate(dataloader):\n",
    "        # Send data to target device\n",
    "        X, y = X.to(device), y.to(device)\n",
    "\n",
    "        # 1. Forward pass\n",
    "        y_pred = model(X)\n",
    "\n",
    "        # 2. Calculate  and accumulate loss\n",
    "        loss = loss_fn(y_pred, y)\n",
    "        train_loss += loss.item() \n",
    "\n",
    "        # 3. Optimizer zero grad\n",
    "        optimizer.zero_grad()\n",
    "\n",
    "        # 4. Loss backward\n",
    "        loss.backward()\n",
    "\n",
    "        # 5. Optimizer step\n",
    "        optimizer.step()\n",
    "\n",
    "        # Calculate and accumulate accuracy metric across all batches\n",
    "        y_pred_class = torch.argmax(torch.softmax(y_pred, dim=1), dim=1)\n",
    "        train_acc += (y_pred_class == y).sum().item()/len(y_pred)\n",
    "\n",
    "    # Adjust metrics to get average loss and accuracy per batch \n",
    "    train_loss = train_loss / len(dataloader)\n",
    "    train_acc = train_acc / len(dataloader)\n",
    "    return train_loss, train_acc"
   ]
  },
  {
   "cell_type": "code",
   "execution_count": 77,
   "metadata": {},
   "outputs": [],
   "source": [
    "def test_step(model: torch.nn.Module, \n",
    "              dataloader: torch.utils.data.DataLoader, \n",
    "              loss_fn: torch.nn.Module):\n",
    "    # Put model in eval mode\n",
    "    model.eval() \n",
    "    \n",
    "    # Setup test loss and test accuracy values\n",
    "    test_loss, test_acc = 0, 0\n",
    "    \n",
    "    # Turn on inference context manager\n",
    "    with torch.inference_mode():\n",
    "        # Loop through DataLoader batches\n",
    "        for batch, (X, y) in enumerate(dataloader):\n",
    "            # Send data to target device\n",
    "            X, y = X.to(device), y.to(device)\n",
    "    \n",
    "            # 1. Forward pass\n",
    "            test_pred_logits = model(X)\n",
    "\n",
    "            # 2. Calculate and accumulate loss\n",
    "            loss = loss_fn(test_pred_logits, y)\n",
    "            test_loss += loss.item()\n",
    "            \n",
    "            # Calculate and accumulate accuracy\n",
    "            test_pred_labels = test_pred_logits.argmax(dim=1)\n",
    "            test_acc += ((test_pred_labels == y).sum().item()/len(test_pred_labels))\n",
    "            \n",
    "    # Adjust metrics to get average loss and accuracy per batch \n",
    "    test_loss = test_loss / len(dataloader)\n",
    "    test_acc = test_acc / len(dataloader)\n",
    "    return test_loss, test_acc"
   ]
  },
  {
   "cell_type": "code",
   "execution_count": 78,
   "metadata": {},
   "outputs": [],
   "source": [
    "from tqdm.auto import tqdm\n",
    "\n",
    "# 1. Take in various parameters required for training and test steps\n",
    "def train(model: torch.nn.Module, \n",
    "          train_dataloader: torch.utils.data.DataLoader, \n",
    "          test_dataloader: torch.utils.data.DataLoader, \n",
    "          optimizer: torch.optim.Optimizer,\n",
    "          loss_fn: torch.nn.Module = nn.CrossEntropyLoss(),\n",
    "          epochs: int = 5):\n",
    "    \n",
    "    # 2. Create empty results dictionary\n",
    "    results = {\"train_loss\": [],\n",
    "        \"train_acc\": [],\n",
    "        \"test_loss\": [],\n",
    "        \"test_acc\": []\n",
    "    }\n",
    "    \n",
    "    # 3. Loop through training and testing steps for a number of epochs\n",
    "    for epoch in tqdm(range(epochs)):\n",
    "        train_loss, train_acc = train_step(model=model,\n",
    "                                           dataloader=train_dataloader,\n",
    "                                           loss_fn=loss_fn,\n",
    "                                           optimizer=optimizer)\n",
    "        test_loss, test_acc = test_step(model=model,\n",
    "            dataloader=test_dataloader,\n",
    "            loss_fn=loss_fn)\n",
    "        \n",
    "        # 4. Print out what's happening\n",
    "        print(\n",
    "            f\"Epoch: {epoch+1} | \"\n",
    "            f\"train_loss: {train_loss:.4f} | \"\n",
    "            f\"train_acc: {train_acc:.4f} | \"\n",
    "            f\"test_loss: {test_loss:.4f} | \"\n",
    "            f\"test_acc: {test_acc:.4f}\"\n",
    "        )\n",
    "\n",
    "        # 5. Update results dictionary\n",
    "        results[\"train_loss\"].append(train_loss)\n",
    "        results[\"train_acc\"].append(train_acc)\n",
    "        results[\"test_loss\"].append(test_loss)\n",
    "        results[\"test_acc\"].append(test_acc)\n",
    "\n",
    "    # 6. Return the filled results at the end of the epochs\n",
    "    return results"
   ]
  },
  {
   "cell_type": "code",
   "execution_count": 79,
   "metadata": {},
   "outputs": [
    {
     "data": {
      "application/vnd.jupyter.widget-view+json": {
       "model_id": "a04dcc1c06b349e69a23256ac50154e7",
       "version_major": 2,
       "version_minor": 0
      },
      "text/plain": [
       "  0%|          | 0/12 [00:00<?, ?it/s]"
      ]
     },
     "metadata": {},
     "output_type": "display_data"
    },
    {
     "name": "stdout",
     "output_type": "stream",
     "text": [
      "Epoch: 1 | train_loss: 11.0826 | train_acc: 0.2130 | test_loss: 5.3015 | test_acc: 0.2222\n",
      "Epoch: 2 | train_loss: 5.5254 | train_acc: 0.3241 | test_loss: 5.1783 | test_acc: 0.3148\n",
      "Epoch: 3 | train_loss: 4.0223 | train_acc: 0.4028 | test_loss: 4.8167 | test_acc: 0.4074\n",
      "Epoch: 4 | train_loss: 3.1002 | train_acc: 0.5093 | test_loss: 3.2707 | test_acc: 0.4815\n",
      "Epoch: 5 | train_loss: 1.5934 | train_acc: 0.5926 | test_loss: 2.7704 | test_acc: 0.4444\n",
      "Epoch: 6 | train_loss: 1.2499 | train_acc: 0.6435 | test_loss: 2.6364 | test_acc: 0.4815\n",
      "Epoch: 7 | train_loss: 0.9274 | train_acc: 0.7176 | test_loss: 2.7218 | test_acc: 0.5741\n",
      "Epoch: 8 | train_loss: 0.6016 | train_acc: 0.8148 | test_loss: 3.5105 | test_acc: 0.5556\n",
      "Epoch: 9 | train_loss: 0.4297 | train_acc: 0.8519 | test_loss: 3.2149 | test_acc: 0.5741\n",
      "Epoch: 10 | train_loss: 0.4284 | train_acc: 0.8611 | test_loss: 3.1458 | test_acc: 0.5556\n",
      "Epoch: 11 | train_loss: 0.2439 | train_acc: 0.9074 | test_loss: 2.6943 | test_acc: 0.5000\n",
      "Epoch: 12 | train_loss: 0.2737 | train_acc: 0.8981 | test_loss: 2.7439 | test_acc: 0.6111\n",
      "Total training time: 47.914 seconds\n"
     ]
    }
   ],
   "source": [
    "# Set random seeds\n",
    "torch.manual_seed(42) \n",
    "torch.cuda.manual_seed(42)\n",
    "\n",
    "# Set number of epochs\n",
    "NUM_EPOCHS = 12\n",
    "\n",
    "# Recreate an instance of TinyVGG\n",
    "model_0 = TinyVGG(input_shape=13, # number of color channels (3 for RGB) \n",
    "                  hidden_units=50, \n",
    "                  output_shape=len(train_data.classes)).to(device)\n",
    "\n",
    "# Setup loss function and optimizer\n",
    "loss_fn = nn.CrossEntropyLoss()\n",
    "optimizer = torch.optim.Adam(params=model_0.parameters(), lr=0.00001)\n",
    "\n",
    "# Start the timer\n",
    "from timeit import default_timer as timer \n",
    "start_time = timer()\n",
    "\n",
    "# Train model_0 \n",
    "model_0_results = train(model=model_0, \n",
    "                        train_dataloader=train_dataloader,\n",
    "                        test_dataloader=test_dataloader,\n",
    "                        optimizer=optimizer,\n",
    "                        loss_fn=loss_fn, \n",
    "                        epochs=NUM_EPOCHS)\n",
    "\n",
    "# End the timer and print out how long it took\n",
    "end_time = timer()\n",
    "print(f\"Total training time: {end_time-start_time:.3f} seconds\")"
   ]
  },
  {
   "cell_type": "markdown",
   "metadata": {},
   "source": [
    "Hmmmm  poor results"
   ]
  },
  {
   "cell_type": "code",
   "execution_count": 80,
   "metadata": {},
   "outputs": [],
   "source": [
    "def plot_loss_curves(results: [str, list[float]]):\n",
    "\n",
    "    # Get the loss values of the results dictionary (training and test)\n",
    "    loss = results['train_loss']\n",
    "    test_loss = results['test_loss']\n",
    "\n",
    "    # Get the accuracy values of the results dictionary (training and test)\n",
    "    accuracy = results['train_acc']\n",
    "    test_accuracy = results['test_acc']\n",
    "\n",
    "    # Figure out how many epochs there were\n",
    "    epochs = range(len(results['train_loss']))\n",
    "\n",
    "    # Setup a plot \n",
    "    plt.figure(figsize=(15, 7))\n",
    "\n",
    "    # Plot loss\n",
    "    plt.subplot(1, 2, 1)\n",
    "    plt.plot(epochs, loss, label='train_loss')\n",
    "    plt.plot(epochs, test_loss, label='test_loss')\n",
    "    plt.title('Loss')\n",
    "    plt.xlabel('Epochs')\n",
    "    plt.legend()\n",
    "\n",
    "    # Plot accuracy\n",
    "    plt.subplot(1, 2, 2)\n",
    "    plt.plot(epochs, accuracy, label='train_accuracy')\n",
    "    plt.plot(epochs, test_accuracy, label='test_accuracy')\n",
    "    plt.title('Accuracy')\n",
    "    plt.xlabel('Epochs')\n",
    "    plt.legend()"
   ]
  },
  {
   "cell_type": "code",
   "execution_count": 81,
   "metadata": {},
   "outputs": [
    {
     "data": {
      "text/plain": [
       "dict_keys(['train_loss', 'train_acc', 'test_loss', 'test_acc'])"
      ]
     },
     "execution_count": 81,
     "metadata": {},
     "output_type": "execute_result"
    }
   ],
   "source": [
    "# Check the model_0_results keys\n",
    "model_0_results.keys()"
   ]
  },
  {
   "cell_type": "code",
   "execution_count": 82,
   "metadata": {},
   "outputs": [
    {
     "data": {
      "image/png": "[encoded data removed]",
      "text/plain": [
       "<Figure size 1500x700 with 2 Axes>"
      ]
     },
     "metadata": {},
     "output_type": "display_data"
    }
   ],
   "source": [
    "plot_loss_curves(model_0_results)"
   ]
  },
  {
   "cell_type": "code",
   "execution_count": 84,
   "metadata": {},
   "outputs": [],
   "source": [
    "PATH_SAVE = \"../models/EuroSAT_M1_H50_Red001\"\n",
    "torch.save(model_0, PATH_SAVE)"
   ]
  },
  {
   "cell_type": "code",
   "execution_count": 85,
   "metadata": {},
   "outputs": [],
   "source": [
    "model_l = torch.load(PATH_SAVE)"
   ]
  },
  {
   "cell_type": "code",
   "execution_count": 86,
   "metadata": {},
   "outputs": [],
   "source": [
    "test_l, test_ac = test_step(model=model_l,\n",
    "          dataloader = test_dataloader,\n",
    "          loss_fn = loss_fn)"
   ]
  },
  {
   "cell_type": "code",
   "execution_count": 87,
   "metadata": {},
   "outputs": [
    {
     "name": "stdout",
     "output_type": "stream",
     "text": [
      "2.743877152725549     0.6111111111111112\n"
     ]
    }
   ],
   "source": [
    "print( test_l , \"   \" , test_ac)"
   ]
  },
  {
   "cell_type": "code",
   "execution_count": 88,
   "metadata": {},
   "outputs": [
    {
     "data": {
      "text/plain": [
       "==========================================================================================\n",
       "Layer (type:depth-idx)                   Output Shape              Param #\n",
       "==========================================================================================\n",
       "TinyVGG                                  [1, 10]                   --\n",
       "├─Sequential: 1-1                        [1, 50, 32, 32]           --\n",
       "│    └─Conv2d: 2-1                       [1, 50, 64, 64]           5,900\n",
       "│    └─ReLU: 2-2                         [1, 50, 64, 64]           --\n",
       "│    └─Conv2d: 2-3                       [1, 50, 64, 64]           22,550\n",
       "│    └─ReLU: 2-4                         [1, 50, 64, 64]           --\n",
       "│    └─MaxPool2d: 2-5                    [1, 50, 32, 32]           --\n",
       "├─Sequential: 1-2                        [1, 50, 16, 16]           --\n",
       "│    └─Conv2d: 2-6                       [1, 50, 32, 32]           22,550\n",
       "│    └─ReLU: 2-7                         [1, 50, 32, 32]           --\n",
       "│    └─Conv2d: 2-8                       [1, 50, 32, 32]           22,550\n",
       "│    └─ReLU: 2-9                         [1, 50, 32, 32]           --\n",
       "│    └─MaxPool2d: 2-10                   [1, 50, 16, 16]           --\n",
       "├─Sequential: 1-3                        [1, 10]                   --\n",
       "│    └─Flatten: 2-11                     [1, 12800]                --\n",
       "│    └─Linear: 2-12                      [1, 10]                   128,010\n",
       "==========================================================================================\n",
       "Total params: 201,560\n",
       "Trainable params: 201,560\n",
       "Non-trainable params: 0\n",
       "Total mult-adds (M): 162.84\n",
       "==========================================================================================\n",
       "Input size (MB): 0.21\n",
       "Forward/backward pass size (MB): 4.10\n",
       "Params size (MB): 0.81\n",
       "Estimated Total Size (MB): 5.12\n",
       "=========================================================================================="
      ]
     },
     "execution_count": 88,
     "metadata": {},
     "output_type": "execute_result"
    }
   ],
   "source": [
    "summary(model_l, input_size=[1, 13, 64, 64])"
   ]
  },
  {
   "cell_type": "markdown",
   "metadata": {},
   "source": [
    "best one has been H35 models, \n",
    "basically hiden channel = e * in channels"
   ]
  }
 ],
 "metadata": {
  "kernelspec": {
   "display_name": "Python 3",
   "language": "python",
   "name": "python3"
  },
  "language_info": {
   "codemirror_mode": {
    "name": "ipython",
    "version": 3
   },
   "file_extension": ".py",
   "mimetype": "text/x-python",
   "name": "python",
   "nbconvert_exporter": "python",
   "pygments_lexer": "ipython3",
   "version": "3.10.6"
  }
 },
 "nbformat": 4,
 "nbformat_minor": 2
}
