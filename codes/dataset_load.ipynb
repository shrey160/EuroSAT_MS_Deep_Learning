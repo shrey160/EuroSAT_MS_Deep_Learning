{
 "cells": [
  {
   "cell_type": "markdown",
   "metadata": {},
   "source": [
    "## Import troch"
   ]
  },
  {
   "cell_type": "code",
   "execution_count": 1,
   "metadata": {},
   "outputs": [
    {
     "data": {
      "text/plain": [
       "'2.0.0+cpu'"
      ]
     },
     "execution_count": 1,
     "metadata": {},
     "output_type": "execute_result"
    }
   ],
   "source": [
    "import torch\n",
    "from torch import nn\n",
    "\n",
    "torch.__version__"
   ]
  },
  {
   "cell_type": "markdown",
   "metadata": {},
   "source": [
    "### Device selection"
   ]
  },
  {
   "cell_type": "code",
   "execution_count": 2,
   "metadata": {},
   "outputs": [
    {
     "data": {
      "text/plain": [
       "'cpu'"
      ]
     },
     "execution_count": 2,
     "metadata": {},
     "output_type": "execute_result"
    }
   ],
   "source": [
    "device = \"cuda\" if torch.cuda.is_available() else \"cpu\"\n",
    "device"
   ]
  },
  {
   "cell_type": "markdown",
   "metadata": {},
   "source": [
    "### Path for dataset"
   ]
  },
  {
   "cell_type": "code",
   "execution_count": 3,
   "metadata": {},
   "outputs": [],
   "source": [
    "import os\n",
    "from PIL import Image\n",
    "import torch\n",
    "from torch.utils.data import Dataset, DataLoader\n",
    "from torchvision import transforms\n",
    "import rasterio\n",
    "import shutil\n",
    "import random\n",
    "\n",
    "#before continueing make sure you have the EuroSAT_MS dataset downloaded\n",
    "# the dataset paths might be diiferent here but e.g. instead of data/EuroSAT/EuroSAT_MS we have considered Eurosat/EuroSAt\n",
    "# for the outfut consider data/<outfut_dir_name> as the standard output instead of the way it is mentioned here\n",
    "\n"
   ]
  },
  {
   "cell_type": "markdown",
   "metadata": {},
   "source": [
    "\n",
    "  Walks through dir_path returning its contents.\n",
    "  Args:\n",
    "    dir_path (str or pathlib.Path): target directory\n",
    "  \n",
    "  Returns:\n",
    "    A print out of:\n",
    "      number of subdiretories in dir_path\n",
    "      number of images (files) in each subdirectory\n",
    "      name of each subdirectory"
   ]
  },
  {
   "cell_type": "code",
   "execution_count": 4,
   "metadata": {},
   "outputs": [],
   "source": [
    "def walk_through_dir(dir_path):\n",
    "  \n",
    "  for dirpath, dirnames, filenames in os.walk(dir_path):\n",
    "    print(f\"There are {len(dirnames)} directories and {len(filenames)} images in '{dirpath}'.\")"
   ]
  },
  {
   "cell_type": "code",
   "execution_count": 5,
   "metadata": {},
   "outputs": [
    {
     "name": "stdout",
     "output_type": "stream",
     "text": [
      "There are 10 directories and 0 images in './EuroSAT/EuroSAT_MS'.\n",
      "There are 0 directories and 3000 images in './EuroSAT/EuroSAT_MS\\AnnualCrop'.\n",
      "There are 0 directories and 3000 images in './EuroSAT/EuroSAT_MS\\Forest'.\n",
      "There are 0 directories and 3000 images in './EuroSAT/EuroSAT_MS\\HerbaceousVegetation'.\n",
      "There are 0 directories and 2500 images in './EuroSAT/EuroSAT_MS\\Highway'.\n",
      "There are 0 directories and 2500 images in './EuroSAT/EuroSAT_MS\\Industrial'.\n",
      "There are 0 directories and 2000 images in './EuroSAT/EuroSAT_MS\\Pasture'.\n",
      "There are 0 directories and 2500 images in './EuroSAT/EuroSAT_MS\\PermanentCrop'.\n",
      "There are 0 directories and 3000 images in './EuroSAT/EuroSAT_MS\\Residential'.\n",
      "There are 0 directories and 2500 images in './EuroSAT/EuroSAT_MS\\River'.\n",
      "There are 0 directories and 3000 images in './EuroSAT/EuroSAT_MS\\SeaLake'.\n"
     ]
    }
   ],
   "source": [
    "# here the Dir should be the folder which containe the image files sorted in class folders\n",
    "walk_through_dir('./EuroSAT/EuroSAT_MS')\n",
    "\n",
    "# OUTPUT EXAMPLE for the mentioned dir, normally it would be   data/EuroSAT_MS\n",
    "\"\"\"\n",
    "There are 10 directories and 0 images in './EuroSAT/EuroSAT_MS'.\n",
    "There are 0 directories and 3000 images in './EuroSAT/EuroSAT_MS\\AnnualCrop'.\n",
    "There are 0 directories and 3000 images in './EuroSAT/EuroSAT_MS\\Forest'.\n",
    "There are 0 directories and 3000 images in './EuroSAT/EuroSAT_MS\\HerbaceousVegetation'.\n",
    "There are 0 directories and 2500 images in './EuroSAT/EuroSAT_MS\\Highway'.\n",
    "There are 0 directories and 2500 images in './EuroSAT/EuroSAT_MS\\Industrial'.\n",
    "There are 0 directories and 2000 images in './EuroSAT/EuroSAT_MS\\Pasture'.\n",
    "There are 0 directories and 2500 images in './EuroSAT/EuroSAT_MS\\PermanentCrop'.\n",
    "There are 0 directories and 3000 images in './EuroSAT/EuroSAT_MS\\Residential'.\n",
    "There are 0 directories and 2500 images in './EuroSAT/EuroSAT_MS\\River'.\n",
    "There are 0 directories and 3000 images in './EuroSAT/EuroSAT_MS\\SeaLake'.\n",
    "\"\"\""
   ]
  },
  {
   "cell_type": "code",
   "execution_count": 6,
   "metadata": {},
   "outputs": [
    {
     "name": "stdout",
     "output_type": "stream",
     "text": [
      "Dataset split into train and test sets. Train set size: 2400, Test set size: 600\n"
     ]
    }
   ],
   "source": [
    "\n",
    "# will divide the dataset into test and train dataset\n",
    "# e.g for 80/20 split set split ratio to 0.8\n",
    "\n",
    "def create_train_test_split(dataset_dir, output_dir, split_ratio=0.8):\n",
    "\n",
    "    # Define train and test directory paths\n",
    "    train_dir = os.path.join(output_dir, 'train')\n",
    "    test_dir = os.path.join(output_dir, 'test')\n",
    "\n",
    "    # Create output directories if they don't exist\n",
    "    os.makedirs(train_dir, exist_ok=True)\n",
    "    os.makedirs(test_dir, exist_ok=True)\n",
    "\n",
    "    # List all class subdirectories (i.e., categories)\n",
    "    class_dirs = [d for d in os.listdir(dataset_dir) if os.path.isdir(os.path.join(dataset_dir, d))]\n",
    "\n",
    "    for class_dir in class_dirs:\n",
    "        class_path = os.path.join(dataset_dir, class_dir)\n",
    "        images = os.listdir(class_path)\n",
    "\n",
    "        # Shuffle the images\n",
    "        random.shuffle(images)\n",
    "\n",
    "        # Split images into train and test sets\n",
    "        split_idx = int(len(images) * split_ratio)\n",
    "        train_images = images[:split_idx]\n",
    "        test_images = images[split_idx:]\n",
    "\n",
    "        # Create class directories in train and test directories\n",
    "        train_class_dir = os.path.join(train_dir, class_dir)\n",
    "        test_class_dir = os.path.join(test_dir, class_dir)\n",
    "        os.makedirs(train_class_dir, exist_ok=True)\n",
    "        os.makedirs(test_class_dir, exist_ok=True)\n",
    "\n",
    "        # Move or copy images to respective directories\n",
    "        for img_name in train_images:\n",
    "            img_src = os.path.join(class_path, img_name)\n",
    "            img_dest = os.path.join(train_class_dir, img_name)\n",
    "            shutil.copy(img_src, img_dest)  # Use shutil.move if you want to move instead of copy\n",
    "\n",
    "        for img_name in test_images:\n",
    "            img_src = os.path.join(class_path, img_name)\n",
    "            img_dest = os.path.join(test_class_dir, img_name)\n",
    "            shutil.copy(img_src, img_dest)\n",
    "\n",
    "    print(f\"Dataset split into train and test sets. Train set size: {split_idx}, Test set size: {len(images) - split_idx}\")\n",
    "\n",
    "\n",
    "# Example usage\n",
    "dataset2_dir = \"EuroSAT/EuroSAT_MS\"                   \n",
    "output_dir = \"Euro_MS\"                               # it should be the dir where you want the output, eg data/<output_dir_name>\n",
    "create_train_test_split(dataset2_dir, output_dir, split_ratio=0.8)\n",
    "\n"
   ]
  },
  {
   "cell_type": "code",
   "execution_count": 7,
   "metadata": {},
   "outputs": [
    {
     "name": "stdout",
     "output_type": "stream",
     "text": [
      "There are 2 directories and 0 images in './Euro_MS'.\n",
      "There are 10 directories and 0 images in './Euro_MS\\test'.\n",
      "There are 0 directories and 1070 images in './Euro_MS\\test\\AnnualCrop'.\n",
      "There are 0 directories and 1069 images in './Euro_MS\\test\\Forest'.\n",
      "There are 0 directories and 1070 images in './Euro_MS\\test\\HerbaceousVegetation'.\n",
      "There are 0 directories and 892 images in './Euro_MS\\test\\Highway'.\n",
      "There are 0 directories and 894 images in './Euro_MS\\test\\Industrial'.\n",
      "There are 0 directories and 732 images in './Euro_MS\\test\\Pasture'.\n",
      "There are 0 directories and 903 images in './Euro_MS\\test\\PermanentCrop'.\n",
      "There are 0 directories and 1093 images in './Euro_MS\\test\\Residential'.\n",
      "There are 0 directories and 911 images in './Euro_MS\\test\\River'.\n",
      "There are 0 directories and 1093 images in './Euro_MS\\test\\SeaLake'.\n",
      "There are 10 directories and 0 images in './Euro_MS\\train'.\n",
      "There are 0 directories and 2870 images in './Euro_MS\\train\\AnnualCrop'.\n",
      "There are 0 directories and 2869 images in './Euro_MS\\train\\Forest'.\n",
      "There are 0 directories and 2870 images in './Euro_MS\\train\\HerbaceousVegetation'.\n",
      "There are 0 directories and 2392 images in './Euro_MS\\train\\Highway'.\n",
      "There are 0 directories and 2394 images in './Euro_MS\\train\\Industrial'.\n",
      "There are 0 directories and 1932 images in './Euro_MS\\train\\Pasture'.\n",
      "There are 0 directories and 2403 images in './Euro_MS\\train\\PermanentCrop'.\n",
      "There are 0 directories and 2893 images in './Euro_MS\\train\\Residential'.\n",
      "There are 0 directories and 2411 images in './Euro_MS\\train\\River'.\n",
      "There are 0 directories and 2893 images in './Euro_MS\\train\\SeaLake'.\n"
     ]
    }
   ],
   "source": [
    "walk_through_dir('./Euro_MS')"
   ]
  },
  {
   "cell_type": "markdown",
   "metadata": {},
   "source": [
    "\n",
    "will divide the dataset into test and train dataset with the final dataset being reduced by the mentioned size reduction\n",
    " e.g for 80/20 split of 10% the size of database set split ratio to 0.8 and dataset_size_reduction to 0.1"
   ]
  },
  {
   "cell_type": "code",
   "execution_count": 8,
   "metadata": {},
   "outputs": [],
   "source": [
    "\n",
    "# will divide the dataset into test and train dataset with the final dataset being reduced by the mentioned size reduction\n",
    "# e.g for 80/20 split of 10% the size of database set split ratio to 0.8 and dataset_size_reduction to 0.1\n",
    "\n",
    "def create_train_test_split_2(dataset_dir, output_dir, split_ratio=0.8,dataset_size_reduction = 1):\n",
    "\n",
    "    # Define train and test directory paths\n",
    "    train_dir = os.path.join(output_dir, 'train')\n",
    "    test_dir = os.path.join(output_dir, 'test')\n",
    "\n",
    "    # Create output directories if they don't exist\n",
    "    os.makedirs(train_dir, exist_ok=True)\n",
    "    os.makedirs(test_dir, exist_ok=True)\n",
    "\n",
    "    # List all class subdirectories (i.e., categories)\n",
    "    class_dirs = [d for d in os.listdir(dataset_dir) if os.path.isdir(os.path.join(dataset_dir, d))]\n",
    "\n",
    "    for class_dir in class_dirs:\n",
    "        class_path = os.path.join(dataset_dir, class_dir)\n",
    "        images = os.listdir(class_path)\n",
    "\n",
    "        # Shuffle the images\n",
    "        random.shuffle(images)\n",
    "\n",
    "        # Split images into train and test sets\n",
    "        idx = int(len(images)*dataset_size_reduction)\n",
    "        split_idx = int(idx * split_ratio)\n",
    "        train_images = images[:split_idx]\n",
    "        test_images = images[split_idx:idx]\n",
    "\n",
    "        # Create class directories in train and test directories\n",
    "        train_class_dir = os.path.join(train_dir, class_dir)\n",
    "        test_class_dir = os.path.join(test_dir, class_dir)\n",
    "        os.makedirs(train_class_dir, exist_ok=True)\n",
    "        os.makedirs(test_class_dir, exist_ok=True)\n",
    "\n",
    "        # Move or copy images to respective directories\n",
    "        for img_name in train_images:\n",
    "            img_src = os.path.join(class_path, img_name)\n",
    "            img_dest = os.path.join(train_class_dir, img_name)\n",
    "            shutil.copy(img_src, img_dest)  # Use shutil.move if you want to move instead of copy\n",
    "\n",
    "        for img_name in test_images:\n",
    "            img_src = os.path.join(class_path, img_name)\n",
    "            img_dest = os.path.join(test_class_dir, img_name)\n",
    "            shutil.copy(img_src, img_dest)\n",
    "\n",
    "    print(f\"Dataset split into train and test sets. Train set size: {split_idx}, Test set size: {idx - split_idx}\")\n"
   ]
  },
  {
   "cell_type": "code",
   "execution_count": 9,
   "metadata": {},
   "outputs": [
    {
     "name": "stdout",
     "output_type": "stream",
     "text": [
      "Dataset split into train and test sets. Train set size: 240, Test set size: 60\n"
     ]
    }
   ],
   "source": [
    "dataset2_dir = \"EuroSAT/EuroSAT_MS\"\n",
    "output_dir = \"Euro_MS_Reduced\"                              #same here as mentioned above\n",
    "create_train_test_split_2(dataset2_dir, output_dir, split_ratio=0.8,dataset_size_reduction=0.1)"
   ]
  },
  {
   "cell_type": "code",
   "execution_count": 10,
   "metadata": {},
   "outputs": [
    {
     "name": "stdout",
     "output_type": "stream",
     "text": [
      "There are 2 directories and 0 images in './Euro_MS_Reduced'.\n",
      "There are 10 directories and 0 images in './Euro_MS_Reduced\\test'.\n",
      "There are 0 directories and 120 images in './Euro_MS_Reduced\\test\\AnnualCrop'.\n",
      "There are 0 directories and 115 images in './Euro_MS_Reduced\\test\\Forest'.\n",
      "There are 0 directories and 119 images in './Euro_MS_Reduced\\test\\HerbaceousVegetation'.\n",
      "There are 0 directories and 100 images in './Euro_MS_Reduced\\test\\Highway'.\n",
      "There are 0 directories and 98 images in './Euro_MS_Reduced\\test\\Industrial'.\n",
      "There are 0 directories and 80 images in './Euro_MS_Reduced\\test\\Pasture'.\n",
      "There are 0 directories and 98 images in './Euro_MS_Reduced\\test\\PermanentCrop'.\n",
      "There are 0 directories and 119 images in './Euro_MS_Reduced\\test\\Residential'.\n",
      "There are 0 directories and 100 images in './Euro_MS_Reduced\\test\\River'.\n",
      "There are 0 directories and 120 images in './Euro_MS_Reduced\\test\\SeaLake'.\n",
      "There are 10 directories and 0 images in './Euro_MS_Reduced\\train'.\n",
      "There are 0 directories and 463 images in './Euro_MS_Reduced\\train\\AnnualCrop'.\n",
      "There are 0 directories and 456 images in './Euro_MS_Reduced\\train\\Forest'.\n",
      "There are 0 directories and 466 images in './Euro_MS_Reduced\\train\\HerbaceousVegetation'.\n",
      "There are 0 directories and 386 images in './Euro_MS_Reduced\\train\\Highway'.\n",
      "There are 0 directories and 383 images in './Euro_MS_Reduced\\train\\Industrial'.\n",
      "There are 0 directories and 306 images in './Euro_MS_Reduced\\train\\Pasture'.\n",
      "There are 0 directories and 390 images in './Euro_MS_Reduced\\train\\PermanentCrop'.\n",
      "There are 0 directories and 457 images in './Euro_MS_Reduced\\train\\Residential'.\n",
      "There are 0 directories and 381 images in './Euro_MS_Reduced\\train\\River'.\n",
      "There are 0 directories and 461 images in './Euro_MS_Reduced\\train\\SeaLake'.\n"
     ]
    }
   ],
   "source": [
    "walk_through_dir('./Euro_MS_Reduced')"
   ]
  },
  {
   "cell_type": "code",
   "execution_count": 11,
   "metadata": {},
   "outputs": [
    {
     "name": "stdout",
     "output_type": "stream",
     "text": [
      "Dataset split into train and test sets. Train set size: 24, Test set size: 6\n"
     ]
    }
   ],
   "source": [
    "dataset2_dir = \"EuroSAT/EuroSAT_MS\"\n",
    "output_dir = \"Euro_MS_Test_red\"\n",
    "create_train_test_split_2(dataset2_dir, output_dir, split_ratio=0.8,dataset_size_reduction=0.01)"
   ]
  },
  {
   "cell_type": "code",
   "execution_count": 12,
   "metadata": {},
   "outputs": [
    {
     "name": "stdout",
     "output_type": "stream",
     "text": [
      "There are 2 directories and 0 images in './Euro_MS_Test_red'.\n",
      "There are 10 directories and 0 images in './Euro_MS_Test_red\\test'.\n",
      "There are 0 directories and 12 images in './Euro_MS_Test_red\\test\\AnnualCrop'.\n",
      "There are 0 directories and 12 images in './Euro_MS_Test_red\\test\\Forest'.\n",
      "There are 0 directories and 12 images in './Euro_MS_Test_red\\test\\HerbaceousVegetation'.\n",
      "There are 0 directories and 10 images in './Euro_MS_Test_red\\test\\Highway'.\n",
      "There are 0 directories and 10 images in './Euro_MS_Test_red\\test\\Industrial'.\n",
      "There are 0 directories and 8 images in './Euro_MS_Test_red\\test\\Pasture'.\n",
      "There are 0 directories and 10 images in './Euro_MS_Test_red\\test\\PermanentCrop'.\n",
      "There are 0 directories and 12 images in './Euro_MS_Test_red\\test\\Residential'.\n",
      "There are 0 directories and 10 images in './Euro_MS_Test_red\\test\\River'.\n",
      "There are 0 directories and 12 images in './Euro_MS_Test_red\\test\\SeaLake'.\n",
      "There are 10 directories and 0 images in './Euro_MS_Test_red\\train'.\n",
      "There are 0 directories and 48 images in './Euro_MS_Test_red\\train\\AnnualCrop'.\n",
      "There are 0 directories and 48 images in './Euro_MS_Test_red\\train\\Forest'.\n",
      "There are 0 directories and 47 images in './Euro_MS_Test_red\\train\\HerbaceousVegetation'.\n",
      "There are 0 directories and 39 images in './Euro_MS_Test_red\\train\\Highway'.\n",
      "There are 0 directories and 39 images in './Euro_MS_Test_red\\train\\Industrial'.\n",
      "There are 0 directories and 32 images in './Euro_MS_Test_red\\train\\Pasture'.\n",
      "There are 0 directories and 40 images in './Euro_MS_Test_red\\train\\PermanentCrop'.\n",
      "There are 0 directories and 47 images in './Euro_MS_Test_red\\train\\Residential'.\n",
      "There are 0 directories and 40 images in './Euro_MS_Test_red\\train\\River'.\n",
      "There are 0 directories and 48 images in './Euro_MS_Test_red\\train\\SeaLake'.\n"
     ]
    }
   ],
   "source": [
    "walk_through_dir('./Euro_MS_Test_red')"
   ]
  }
 ],
 "metadata": {
  "kernelspec": {
   "display_name": "Python 3",
   "language": "python",
   "name": "python3"
  },
  "language_info": {
   "codemirror_mode": {
    "name": "ipython",
    "version": 3
   },
   "file_extension": ".py",
   "mimetype": "text/x-python",
   "name": "python",
   "nbconvert_exporter": "python",
   "pygments_lexer": "ipython3",
   "version": "3.10.6"
  }
 },
 "nbformat": 4,
 "nbformat_minor": 2
}
